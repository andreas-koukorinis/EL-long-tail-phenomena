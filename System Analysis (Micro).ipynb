{
 "cells": [
  {
   "cell_type": "markdown",
   "metadata": {},
   "source": [
    "# System analysis (Micro)"
   ]
  },
  {
   "cell_type": "code",
   "execution_count": 1,
   "metadata": {},
   "outputs": [],
   "source": [
    "import pickle\n",
    "import analysis_utils\n",
    "import plot_utils\n",
    "from collections import defaultdict, OrderedDict\n",
    "import math\n",
    "from scipy.stats import pearsonr, spearmanr\n",
    "import numpy as np\n",
    "from scipy.stats import kendalltau\n",
    "import pandas as pd\n",
    "from scipy.stats import entropy\n",
    "from copy import deepcopy\n",
    "import random"
   ]
  },
  {
   "cell_type": "code",
   "execution_count": 2,
   "metadata": {
    "collapsed": true
   },
   "outputs": [],
   "source": [
    "import matplotlib.pyplot as plt\n",
    "%matplotlib inline\n",
    "plt.rcParams.update({'font.size': 12})\n",
    "\n",
    "\n",
    "import seaborn as sns\n",
    "sns.set_style(\"whitegrid\")"
   ]
  },
  {
   "cell_type": "code",
   "execution_count": 3,
   "metadata": {
    "collapsed": true
   },
   "outputs": [],
   "source": [
    "debug=False"
   ]
  },
  {
   "cell_type": "markdown",
   "metadata": {},
   "source": [
    "### 1) Load data from BIN files"
   ]
  },
  {
   "cell_type": "code",
   "execution_count": 4,
   "metadata": {
    "collapsed": true
   },
   "outputs": [],
   "source": [
    "n3_title='n3'\n",
    "aida_title='aida'\n",
    "titles=[aida_title, n3_title]\n",
    "systems=['agdistis', 'spotlight', 'wat']"
   ]
  },
  {
   "cell_type": "code",
   "execution_count": 5,
   "metadata": {
    "collapsed": true
   },
   "outputs": [],
   "source": [
    "### Load data from disk\n",
    "system_data_articles={}\n",
    "for system in systems:\n",
    "    system_data_articles[system]={}\n",
    "    for data_title in titles:\n",
    "        with open('bin/%s_%s.bin' % (data_title, system), 'rb') as outfile:\n",
    "            system_data_articles[system][data_title]=pickle.load(outfile)"
   ]
  },
  {
   "cell_type": "markdown",
   "metadata": {},
   "source": [
    "#### [DEBUG-only] Store agdistis output to a file"
   ]
  },
  {
   "cell_type": "code",
   "execution_count": 6,
   "metadata": {
    "collapsed": true
   },
   "outputs": [],
   "source": [
    "if debug:\n",
    "    with open('debug/agdmag_aida_debug.tsv', 'w') as w:\n",
    "        w.write('collection\\tarticle_ID\\tbegin_index\\tend_index\\tmention\\tgold_link\\tsystem_link\\n')\n",
    "        for article in aida_agd_articles:\n",
    "            for mention in article.entity_mentions:\n",
    "                if mention.sys_link.startswith('http://aksw.org/'):\n",
    "                    mention.sys_link = '--NME--'\n",
    "\n",
    "                a_row=[article.collection, str(article.identifier), \n",
    "                       str(mention.begin_index), str(mention.end_index), \n",
    "                       mention.mention, mention.gold_link, \n",
    "                       mention.sys_link]\n",
    "                w.write('\\t'.join(a_row) + '\\n')"
   ]
  },
  {
   "cell_type": "markdown",
   "metadata": {},
   "source": [
    "**1.1. Pick dataset**"
   ]
  },
  {
   "cell_type": "code",
   "execution_count": 7,
   "metadata": {
    "collapsed": true
   },
   "outputs": [],
   "source": [
    "system_articles = {}\n",
    "\n",
    "for system in systems:\n",
    "    system_articles[system]=set()\n",
    "    for data_title in titles: \n",
    "        system_articles[system] |= system_data_articles[system][data_title]"
   ]
  },
  {
   "cell_type": "markdown",
   "metadata": {},
   "source": [
    "**1.2. Normalize AGDISTIS NILs given as custom AKSW URIs **"
   ]
  },
  {
   "cell_type": "code",
   "execution_count": 8,
   "metadata": {
    "collapsed": true
   },
   "outputs": [],
   "source": [
    "for article in system_articles['agdistis']:\n",
    "    for mention in article.entity_mentions:\n",
    "        if mention.sys_link.startswith('http://aksw.org/'):\n",
    "            mention.sys_link = '--NME--'\n"
   ]
  },
  {
   "cell_type": "markdown",
   "metadata": {},
   "source": [
    "**1.3.Normalize forms to lower-case (disabled for now)**"
   ]
  },
  {
   "cell_type": "code",
   "execution_count": 9,
   "metadata": {
    "collapsed": true
   },
   "outputs": [],
   "source": [
    "if debug:\n",
    "    for system in systems:\n",
    "        for article in system_articles[system]:\n",
    "            for mention in article.entity_mentions:\n",
    "                mention.mention=mention.mention.lower()\n",
    "                print(mention.mention)"
   ]
  },
  {
   "cell_type": "markdown",
   "metadata": {},
   "source": [
    "### 2) Performance\n",
    "\n",
    "<span style=\"background-color:lightgreen\">Section 5.1. of the paper</span>\n",
    "\n",
    "#### 2.1. Overall"
   ]
  },
  {
   "cell_type": "code",
   "execution_count": 10,
   "metadata": {
    "collapsed": true
   },
   "outputs": [],
   "source": [
    "skip_nils=True\n",
    "skip_nonnils=False"
   ]
  },
  {
   "cell_type": "code",
   "execution_count": 11,
   "metadata": {},
   "outputs": [
    {
     "name": "stdout",
     "output_type": "stream",
     "text": [
      "AGDISTIS\n",
      "17064 8991 11927\n",
      "0.6549222797927461 0.5885964609706461 0.6199905533553755\n",
      "0.6199905533553755\n",
      "\n",
      "SPOTLIGHT\n",
      "20252 6396 8739\n",
      "0.7599819873911738 0.6985616225725225 0.7279785761785798\n",
      "0.7279785761785798\n",
      "\n",
      "WAT\n",
      "19027 2420 9964\n",
      "0.8871637058796102 0.6563071297989032 0.7544708354811849\n",
      "0.7544708354811849\n",
      "\n"
     ]
    }
   ],
   "source": [
    "all_sys_accs = defaultdict(dict)\n",
    "for system in systems:\n",
    "    print(system.upper())\n",
    "    sys_acc=analysis_utils.overall_performance_prf(system_articles[system], \n",
    "                                               skip_nils, \n",
    "                                               skip_nonnils)\n",
    "    all_sys_accs[system]['overall']=sys_acc\n",
    "#    scores.append(['overall', system, sys_acc])\n",
    "    print(sys_acc)\n",
    "    print()\n"
   ]
  },
  {
   "cell_type": "markdown",
   "metadata": {},
   "source": [
    "#### 2.2. Only forms that are interpretted as NILs and not-NILs"
   ]
  },
  {
   "cell_type": "code",
   "execution_count": 12,
   "metadata": {
    "collapsed": true
   },
   "outputs": [],
   "source": [
    "if debug:\n",
    "    for system in systems:\n",
    "        interpretations, references = analysis_utils.get_interpretations_and_references(system_articles[system], skip_nils=False)\n",
    "        ambiguity={}\n",
    "        for form,meanings in interpretations.items():\n",
    "            ambiguity[form]=len(meanings)\n",
    "\n",
    "        nil_nonnil_forms=set()\n",
    "        for form, amb in ambiguity.items():\n",
    "            if amb>1:\n",
    "                if '--NME--' in interpretations[form]:\n",
    "                    nil_nonnil_forms.add(form)\n",
    "\n",
    "        nn_f_acc=analysis_utils.compute_prf_on_selection(system_articles[system], nil_nonnil_forms)\n",
    "        print(system, nn_f_acc)\n",
    "        all_sys_accs[system]['forms with nils & non-nils']=nn_f_acc\n",
    "    #    scores.append(['forms with nils & non-nils', system, nn_f_acc])"
   ]
  },
  {
   "cell_type": "markdown",
   "metadata": {},
   "source": [
    "#### 2.3. Only ambiguous forms"
   ]
  },
  {
   "cell_type": "code",
   "execution_count": 13,
   "metadata": {},
   "outputs": [
    {
     "name": "stdout",
     "output_type": "stream",
     "text": [
      "4369 4830 5662\n",
      "0.4749429285791934 0.435549795633536 0.4543941757670307\n",
      "agdistis 0.4543941757670307\n",
      "6237 3435 3762\n",
      "0.6448511166253101 0.6237623762376238 0.6341314625590972\n",
      "spotlight 0.6341314625590972\n",
      "6108 1665 3922\n",
      "0.785796989579313 0.6089730807577268 0.6861764871089142\n",
      "wat 0.6861764871089142\n"
     ]
    }
   ],
   "source": [
    "for system in systems:\n",
    "    interpretations, references = analysis_utils.get_interpretations_and_references(system_articles[system], skip_nils=True)\n",
    "    ambiguity={}\n",
    "    for form,meanings in interpretations.items():\n",
    "        ambiguity[form]=len(meanings)\n",
    "\n",
    "    ambiguous_forms=set()\n",
    "    for form, amb in ambiguity.items():\n",
    "        if amb>1:\n",
    "            ambiguous_forms.add(form)\n",
    "\n",
    "    amb_f_acc=analysis_utils.compute_prf_on_selection(system_articles[system], ambiguous_forms)\n",
    "    print(system, amb_f_acc)\n",
    "    all_sys_accs[system]['ambiguous forms']=amb_f_acc\n",
    "#    scores.append(['ambiguous forms', system, amb_f_acc])"
   ]
  },
  {
   "cell_type": "markdown",
   "metadata": {},
   "source": [
    "** 2.4. Prepare and plot **"
   ]
  },
  {
   "cell_type": "code",
   "execution_count": 14,
   "metadata": {},
   "outputs": [],
   "source": [
    "scores=analysis_utils.prepare_scores_to_plot(all_sys_accs)"
   ]
  },
  {
   "cell_type": "code",
   "execution_count": 15,
   "metadata": {},
   "outputs": [
    {
     "name": "stdout",
     "output_type": "stream",
     "text": [
      "['overall', 'ambiguous forms']\n",
      "['AGDISTIS', 'SPOTLIGHT', 'WAT']\n",
      "width: 0.3\n",
      "evaluation: overall\n",
      "0.6199905533553755\n",
      "0.7279785761785798\n",
      "0.7544708354811849\n",
      "evaluation: ambiguous forms\n",
      "0.4543941757670307\n",
      "0.6341314625590972\n",
      "0.6861764871089142\n"
     ]
    },
    {
     "data": {
      "text/plain": [
       "<matplotlib.figure.Figure at 0x11fb76780>"
      ]
     },
     "metadata": {},
     "output_type": "display_data"
    },
    {
     "data": {
      "image/png": "[encoded data removed]",
      "text/plain": [
       "<matplotlib.figure.Figure at 0x11fb71390>"
      ]
     },
     "metadata": {},
     "output_type": "display_data"
    }
   ],
   "source": [
    "plot_utils.plot_scores(scores, title='Scores of systems')\n",
    "#plot_scores(scores, title='Scores of systems')"
   ]
  },
  {
   "cell_type": "markdown",
   "metadata": {},
   "source": [
    "### 3) Baselines"
   ]
  },
  {
   "cell_type": "code",
   "execution_count": 16,
   "metadata": {
    "collapsed": true
   },
   "outputs": [],
   "source": [
    "baseline_articles = {}"
   ]
  },
  {
   "cell_type": "code",
   "execution_count": 17,
   "metadata": {
    "collapsed": true
   },
   "outputs": [],
   "source": [
    "freq_system='x freq baseline'\n",
    "random_system='x random baseline'\n",
    "\n",
    "totals=analysis_utils.get_freq_totals(system_articles[systems[0]],\n",
    "                                      set(),\n",
    "                                      ambiguous_only=False\n",
    "                                     )\n",
    "freq_baseline_articles=deepcopy(system_articles['agdistis'])\n",
    "pr_baseline_articles=deepcopy(system_articles['agdistis'])\n",
    "random_baseline_articles=deepcopy(system_articles['agdistis'])\n"
   ]
  },
  {
   "cell_type": "code",
   "execution_count": 18,
   "metadata": {
    "collapsed": true
   },
   "outputs": [],
   "source": [
    "\n",
    "\n",
    "form_to_mostfreq=defaultdict(lambda: '--NME--')\n",
    "form_to_highest_pr = defaultdict(lambda: '--NME--')\n",
    "for form, dist in totals.items():\n",
    "    key_max = max(dist.keys(), key=(lambda k: dist[k]))\n",
    "    form_to_mostfreq[form]=key_max"
   ]
  },
  {
   "cell_type": "code",
   "execution_count": 19,
   "metadata": {
    "collapsed": true
   },
   "outputs": [],
   "source": [
    "for article in freq_baseline_articles:\n",
    "    for mention in article.entity_mentions:\n",
    "        mention.sys_link=form_to_mostfreq[mention.mention]\n",
    "        \n",
    "for article in random_baseline_articles:\n",
    "    for mention in article.entity_mentions:\n",
    "        if mention.mention in totals.keys() and totals[mention.mention].keys():\n",
    "            key_random=random.choice(list(totals[mention.mention].keys()))\n",
    "        else:\n",
    "            key_random='--NME--'\n",
    "        mention.sys_link=key_random\n",
    "        \n",
    "baseline_articles[freq_system]=freq_baseline_articles\n",
    "baseline_articles[random_system]=random_baseline_articles"
   ]
  },
  {
   "cell_type": "code",
   "execution_count": 20,
   "metadata": {},
   "outputs": [
    {
     "name": "stdout",
     "output_type": "stream",
     "text": [
      "27089 1902 1902\n",
      "0.9343934324445518 0.9343934324445518 0.9343934324445516\n",
      "0.9343934324445516\n",
      "22829 6162 6162\n",
      "0.7874512779828222 0.7874512779828222 0.7874512779828222\n",
      "0.7874512779828222\n"
     ]
    }
   ],
   "source": [
    "for baseline, articles in baseline_articles.items():\n",
    "    sys_acc=analysis_utils.overall_performance_prf(articles, skip_nils=True, skip_nonnils=False)\n",
    "    print(sys_acc)\n",
    "    all_sys_accs[baseline]['overall']=sys_acc\n"
   ]
  },
  {
   "cell_type": "code",
   "execution_count": 21,
   "metadata": {},
   "outputs": [
    {
     "name": "stdout",
     "output_type": "stream",
     "text": [
      "8092 2099 1902\n",
      "0.7940339515258561 0.8096858114868921 0.8017835026009412\n",
      "3832 6359 6162\n",
      "0.37601805514669806 0.3834300580348209 0.3796878870448353\n"
     ]
    }
   ],
   "source": [
    "for baseline, articles in baseline_articles.items():\n",
    "    amb_f_acc=analysis_utils.compute_prf_on_selection(articles, ambiguous_forms)\n",
    "    all_sys_accs[baseline]['ambiguous forms']=amb_f_acc\n",
    "    if debug: \n",
    "        nn_f_acc=analysis_utils.compute_prf_on_selection(articles, nil_nonnil_forms)\n",
    "        all_sys_accs[baseline]['forms with nils & non-nils']=nn_f_acc"
   ]
  },
  {
   "cell_type": "markdown",
   "metadata": {},
   "source": [
    "### 4) Prepare the data needed to compare frequency/popularity and performance"
   ]
  },
  {
   "cell_type": "markdown",
   "metadata": {},
   "source": [
    "**4.1. Compute P, R and F1 per form and instance**"
   ]
  },
  {
   "cell_type": "code",
   "execution_count": 22,
   "metadata": {
    "collapsed": true
   },
   "outputs": [],
   "source": [
    "def evaluate_per_form_or_instance(articles, which='form', skip_nils=True, ambiguous_only=False, ambiguous_forms=None):\n",
    "    \"\"\"\n",
    "    Evaluate ranks for precision, recall, and F1-score.\n",
    "    \"\"\"\n",
    "    tps=defaultdict(int)\n",
    "    fns=defaultdict(int)\n",
    "    fps=defaultdict(int)\n",
    "   \n",
    "\n",
    "    all_cases=set()\n",
    "    for article in articles:\n",
    "        for mention in article.entity_mentions:\n",
    "                form=mention.mention\n",
    "                meaning=mention.gold_link\n",
    "                sys_meaning=mention.sys_link\n",
    "                if skip_nils and meaning=='--NME--':\n",
    "                    continue\n",
    "                if ambiguous_only and form not in ambiguous_forms:\n",
    "                    continue\n",
    "                if which=='form':\n",
    "                    factor_sys=form\n",
    "                    factor_gold=form\n",
    "                else:\n",
    "                    factor_gold=meaning\n",
    "                    factor_sys=sys_meaning\n",
    "                all_cases.add(factor_gold)\n",
    "                all_cases.add(factor_sys)\n",
    "                if sys_meaning==meaning:\n",
    "                    tps[factor_gold]+=1\n",
    "                else:\n",
    "                    if meaning and meaning!='--NME--':\n",
    "                        fns[factor_gold]+=1\n",
    "                    if sys_meaning and sys_meaning!='--NME--':\n",
    "                        fps[factor_sys]+=1\n",
    "\n",
    "    prec={}\n",
    "    recall={}\n",
    "    f1={}\n",
    "\n",
    "    for factor in all_cases:\n",
    "        if tps[factor]+fps[factor]>0:\n",
    "            prec[factor]=tps[factor]/(tps[factor]+fps[factor])\n",
    "        else:\n",
    "            prec[factor]=0.0\n",
    "        if tps[factor]+fns[factor]>0:\n",
    "            recall[factor]=tps[factor]/(tps[factor]+fns[factor])\n",
    "        else:\n",
    "            recall[factor]=0.0\n",
    "        if prec[factor]+recall[factor]>0:\n",
    "            f1[factor]=2*prec[factor]*recall[factor]/(prec[factor]+recall[factor])\n",
    "        else:\n",
    "            f1[factor]=0.0\n",
    "    return prec, recall, f1"
   ]
  },
  {
   "cell_type": "code",
   "execution_count": 23,
   "metadata": {
    "collapsed": true
   },
   "outputs": [],
   "source": [
    "prec_by_form = {system: defaultdict(float) for system in systems}\n",
    "recall_by_form = {system: defaultdict(float) for system in systems}\n",
    "f1_by_form = {system: defaultdict(float) for system in systems}\n",
    "\n",
    "for system in systems:\n",
    "    prf = evaluate_per_form_or_instance(system_articles[system], 'form', ambiguous_only=False, \n",
    "                                        ambiguous_forms=ambiguous_forms)\n",
    "    prec_by_form[system]=prf[0]\n",
    "    recall_by_form[system]=prf[1]\n",
    "    f1_by_form[system]=prf[2]"
   ]
  },
  {
   "cell_type": "code",
   "execution_count": 24,
   "metadata": {
    "collapsed": true
   },
   "outputs": [],
   "source": [
    "prec_by_instance = {system: defaultdict(float) for system in systems}\n",
    "recall_by_instance = {system: defaultdict(float) for system in systems}\n",
    "f1_by_instance = {system: defaultdict(float) for system in systems}\n",
    "\n",
    "for system in systems:\n",
    "    prf = evaluate_per_form_or_instance(system_articles[system], 'instance', ambiguous_only=False, \n",
    "                                        ambiguous_forms=ambiguous_forms)\n",
    "    prec_by_instance[system]=prf[0]\n",
    "    recall_by_instance[system]=prf[1]\n",
    "    f1_by_instance[system]=prf[2]"
   ]
  },
  {
   "cell_type": "markdown",
   "metadata": {},
   "source": [
    "**4.2. Obtain frequency distributions for forms and instances**"
   ]
  },
  {
   "cell_type": "code",
   "execution_count": 25,
   "metadata": {
    "collapsed": true
   },
   "outputs": [],
   "source": [
    "instance_frequencies, form_frequencies=analysis_utils.get_mention_counts(system_articles[systems[0]])"
   ]
  },
  {
   "cell_type": "markdown",
   "metadata": {},
   "source": [
    "**4.3. Obtain PageRank values**"
   ]
  },
  {
   "cell_type": "code",
   "execution_count": 26,
   "metadata": {
    "collapsed": true
   },
   "outputs": [],
   "source": [
    "skip_zeros=True\n",
    "pagerank_frequency, pr_uniq, uri_pr = analysis_utils.get_pageranks(system_articles['spotlight'],\n",
    "                                                                     skip_zeros=skip_zeros,\n",
    "                                                                     ambiguous_only=True,\n",
    "                                                                      ambiguous_forms=ambiguous_forms)"
   ]
  },
  {
   "cell_type": "markdown",
   "metadata": {},
   "source": [
    "**4.4. Prepare entropy values**"
   ]
  },
  {
   "cell_type": "code",
   "execution_count": 27,
   "metadata": {},
   "outputs": [],
   "source": [
    "form_entropies={}\n",
    "for form in ambiguous_forms:\n",
    "    counts=analysis_utils.get_form_counts(system_articles['spotlight'], form)\n",
    "    counts=list(counts)\n",
    "    form_entropies[form]=entropy(counts ,base=len(counts))"
   ]
  },
  {
   "cell_type": "markdown",
   "metadata": {},
   "source": [
    "### 5) Compute Correlations between frequency/popularity and performance\n",
    "\n",
    "<span style=\"background-color:lightgreen\">Section 5.2. of the paper</span>"
   ]
  },
  {
   "cell_type": "markdown",
   "metadata": {},
   "source": [
    "** 5.1. Compute correlation between form frequency and performance**"
   ]
  },
  {
   "cell_type": "code",
   "execution_count": 28,
   "metadata": {},
   "outputs": [
    {
     "name": "stdout",
     "output_type": "stream",
     "text": [
      "AGDISTIS\n",
      "The Spearman correlation between X and Y is: 0.1970116093065219 . Significance:  0.06271935468205016\n",
      "SPOTLIGHT\n",
      "The Spearman correlation between X and Y is: 0.08949437163626152 . Significance:  0.40156180787929974\n",
      "WAT\n",
      "The Spearman correlation between X and Y is: 0.4662792325483932 . Significance:  3.6244473600530232e-06\n"
     ]
    }
   ],
   "source": [
    "agg_per_frequency=defaultdict(set)\n",
    "for form, frequency in form_frequencies.items():\n",
    "    agg_per_frequency[frequency].add(form)\n",
    "\n",
    "for system in systems:\n",
    "    dist1=[]\n",
    "    dist2=[]\n",
    "    for frequency, forms in sorted(agg_per_frequency.items()):\n",
    "        f1_values=[]\n",
    "        for form in forms:\n",
    "            try:\n",
    "                f1_values.append(f1_by_form[system][form])\n",
    "            except KeyError:\n",
    "                continue\n",
    "        if f1_values:\n",
    "            dist1.append(frequency)\n",
    "            dist2.append(np.mean(f1_values))\n",
    "    correlation, significance = spearmanr(dist1, dist2)\n",
    "    print(system.upper())\n",
    "    print('The Spearman correlation between X and Y is:', correlation, '. Significance: ', significance)"
   ]
  },
  {
   "cell_type": "markdown",
   "metadata": {},
   "source": [
    "** 5.2. Compute correlation between instance frequency and performance**"
   ]
  },
  {
   "cell_type": "code",
   "execution_count": 29,
   "metadata": {},
   "outputs": [
    {
     "name": "stdout",
     "output_type": "stream",
     "text": [
      "AGDISTIS\n",
      "The Spearman correlation between X and Y is: 0.22598310854663467 . Significance:  0.028517931080499766\n",
      "SPOTLIGHT\n",
      "The Spearman correlation between X and Y is: 0.12368646348548526 . Significance:  0.23494902512092916\n",
      "WAT\n",
      "The Spearman correlation between X and Y is: 0.5049958458259581 . Significance:  2.0970549619133197e-07\n"
     ]
    }
   ],
   "source": [
    "agg_inst_per_frequency=defaultdict(set)\n",
    "for instance, frequency in instance_frequencies.items():\n",
    "    agg_inst_per_frequency[frequency].add(instance)\n",
    "\n",
    "for system in systems:\n",
    "    dist1=[]\n",
    "    dist2=[]\n",
    "    for frequency, instances in sorted(agg_inst_per_frequency.items()):\n",
    "        f1_values=[]\n",
    "        for instance in instances:\n",
    "            try:\n",
    "                f1_values.append(f1_by_instance[system][instance])\n",
    "            except KeyError:\n",
    "                continue\n",
    "        if f1_values:\n",
    "            dist1.append(frequency)\n",
    "            dist2.append(np.mean(f1_values))\n",
    "    correlation, significance = spearmanr(dist1, dist2)\n",
    "    print(system.upper())\n",
    "    print('The Spearman correlation between X and Y is:', correlation, '. Significance: ', significance)"
   ]
  },
  {
   "cell_type": "markdown",
   "metadata": {},
   "source": [
    "** 5.3. Compute correlation between instance PageRank and performance**"
   ]
  },
  {
   "cell_type": "code",
   "execution_count": 30,
   "metadata": {},
   "outputs": [
    {
     "name": "stdout",
     "output_type": "stream",
     "text": [
      "AGDISTIS\n",
      "The Spearman correlation between X and Y is: 0.33766384000315935 . Significance:  2.6880467302605277e-10\n",
      "SPOTLIGHT\n",
      "The Spearman correlation between X and Y is: 0.17101878062473327 . Significance:  0.0017634235901045018\n",
      "WAT\n",
      "The Spearman correlation between X and Y is: 0.4934588453596141 . Significance:  8.880731716936924e-22\n"
     ]
    }
   ],
   "source": [
    "agg_inst_per_pr=defaultdict(set)\n",
    "for instance, i_pr in uri_pr.items():\n",
    "    agg_inst_per_pr[i_pr].add(instance)\n",
    "\n",
    "for system in systems:\n",
    "    dist1=[]\n",
    "    dist2=[]\n",
    "    for i_pr, instances in sorted(agg_inst_per_pr.items()):\n",
    "        f1_values=[]\n",
    "        for instance in instances:\n",
    "            try:\n",
    "                f1_values.append(f1_by_instance[system][instance])\n",
    "            except KeyError:\n",
    "                continue\n",
    "        if f1_values:\n",
    "            dist1.append(i_pr)\n",
    "            dist2.append(np.mean(f1_values))\n",
    "    correlation, significance = spearmanr(dist1, dist2)\n",
    "    print(system.upper())\n",
    "    print('The Spearman correlation between X and Y is:', correlation, '. Significance: ', significance)"
   ]
  },
  {
   "cell_type": "markdown",
   "metadata": {},
   "source": [
    "### 6) Entropy\n",
    "\n",
    "<span style=\"background-color:lightgreen\">Section 5.4. of the paper</span>\n"
   ]
  },
  {
   "cell_type": "markdown",
   "metadata": {},
   "source": [
    "**6.1. Plot F1-scores per entropy class**"
   ]
  },
  {
   "cell_type": "code",
   "execution_count": 31,
   "metadata": {
    "collapsed": true
   },
   "outputs": [],
   "source": [
    "forms_per_rentropy=defaultdict(set)\n",
    "for form, entr in form_entropies.items():\n",
    "    rounded_entropy=round(entr,1)\n",
    "    forms_per_rentropy[rounded_entropy].add(form)"
   ]
  },
  {
   "cell_type": "code",
   "execution_count": 32,
   "metadata": {},
   "outputs": [
    {
     "name": "stdout",
     "output_type": "stream",
     "text": [
      "AGDISTIS\n",
      "1019 532 950\n",
      "0.6569954867827208 0.5175215845606908 0.5789772727272727\n",
      "826 249 294\n",
      "0.7683720930232558 0.7375 0.7526195899772209\n",
      "444 303 365\n",
      "0.5943775100401606 0.5488257107540173 0.5706940874035991\n",
      "454 532 555\n",
      "0.460446247464503 0.4499504459861249 0.4551378446115288\n",
      "366 562 603\n",
      "0.39439655172413796 0.37770897832817335 0.385872430152873\n",
      "241 525 579\n",
      "0.31462140992167104 0.2939024390243902 0.30390920554854983\n",
      "244 725 794\n",
      "0.2518059855521156 0.2350674373795761 0.24314897857498757\n",
      "279 490 518\n",
      "0.36280884265279584 0.35006273525721454 0.3563218390804598\n",
      "222 381 403\n",
      "0.3681592039800995 0.3552 0.36156351791530944\n",
      "274 531 601\n",
      "0.3403726708074534 0.31314285714285717 0.3261904761904762\n",
      "SPOTLIGHT\n",
      "1447 485 521\n",
      "0.7489648033126294 0.7352642276422764 0.742051282051282\n",
      "743 350 376\n",
      "0.6797804208600183 0.6639857015192135 0.6717902350813743\n",
      "551 227 258\n",
      "0.7082262210796915 0.681087762669963 0.6943919344675488\n",
      "703 297 306\n",
      "0.703 0.6967294350842418 0.6998506719761075\n",
      "522 398 439\n",
      "0.5673913043478261 0.5431841831425598 0.5550239234449761\n",
      "463 307 354\n",
      "0.6012987012987013 0.5667074663402693 0.5834908632640201\n",
      "558 312 476\n",
      "0.6413793103448275 0.539651837524178 0.5861344537815127\n",
      "370 402 417\n",
      "0.4792746113989637 0.4701397712833545 0.47466324567030144\n",
      "377 247 249\n",
      "0.6041666666666666 0.6022364217252396 0.6032000000000001\n",
      "503 410 366\n",
      "0.5509309967141293 0.5788262370540852 0.564534231200898\n",
      "WAT\n",
      "1770 92 199\n",
      "0.9505907626208379 0.898933468765871 0.9240407204385278\n",
      "887 65 232\n",
      "0.9317226890756303 0.7926720285969616 0.8565910188314825\n",
      "610 94 199\n",
      "0.8664772727272727 0.754017305315204 0.806345009914078\n",
      "622 160 387\n",
      "0.7953964194373402 0.6164519326065411 0.6945840312674484\n",
      "511 194 451\n",
      "0.724822695035461 0.5311850311850311 0.6130773845230955\n",
      "349 170 470\n",
      "0.6724470134874759 0.4261294261294261 0.5216741405082213\n",
      "434 203 603\n",
      "0.6813186813186813 0.4185149469623915 0.5185185185185185\n",
      "313 183 482\n",
      "0.6310483870967742 0.3937106918238994 0.48489542989930295\n",
      "256 159 380\n",
      "0.6168674698795181 0.4025157232704403 0.4871550903901047\n",
      "356 345 519\n",
      "0.5078459343794579 0.40685714285714286 0.4517766497461929\n",
      "X FREQ BASELINE\n",
      "1933 48 35\n",
      "0.9757698132256436 0.9822154471544715 0.9789820207647505\n",
      "1071 49 48\n",
      "0.95625 0.9571045576407506 0.9566770879857079\n",
      "746 69 63\n",
      "0.9153374233128835 0.9221260815822002 0.9187192118226601\n",
      "894 122 115\n",
      "0.8799212598425197 0.8860257680872151 0.8829629629629631\n",
      "785 194 176\n",
      "0.8018386108273748 0.8168574401664932 0.8092783505154638\n",
      "623 198 194\n",
      "0.758830694275274 0.762545899632803 0.7606837606837608\n",
      "698 357 336\n",
      "0.6616113744075829 0.6750483558994197 0.6682623264719962\n",
      "489 330 298\n",
      "0.5970695970695971 0.6213468869123253 0.6089663760896636\n",
      "394 259 231\n",
      "0.6033690658499234 0.6304 0.6165884194053208\n",
      "459 473 406\n",
      "0.4924892703862661 0.530635838150289 0.5108514190317195\n",
      "X RANDOM BASELINE\n",
      "736 1245 1232\n",
      "0.37152953054013127 0.37398373983739835 0.37275259559382123\n",
      "427 693 692\n",
      "0.38125 0.38159070598748884 0.38142027690933444\n",
      "310 505 499\n",
      "0.3803680981595092 0.3831891223733004 0.3817733990147783\n",
      "421 595 588\n",
      "0.41437007874015747 0.4172447968285431 0.41580246913580243\n",
      "312 667 649\n",
      "0.31869254341164455 0.32466181061394384 0.3216494845360825\n",
      "287 534 530\n",
      "0.34957369062119364 0.35128518971848227 0.3504273504273504\n",
      "365 690 669\n",
      "0.3459715639810427 0.3529980657640232 0.34944949736716135\n",
      "272 547 515\n",
      "0.3321123321123321 0.34561626429479037 0.33872976338729766\n",
      "305 348 320\n",
      "0.4670750382848392 0.488 0.47730829420970267\n",
      "397 535 468\n",
      "0.4259656652360515 0.45895953757225433 0.4418475236505286\n"
     ]
    },
    {
     "data": {
      "image/png": "[encoded data removed]",
      "text/plain": [
       "<matplotlib.figure.Figure at 0x1260e7208>"
      ]
     },
     "metadata": {},
     "output_type": "display_data"
    }
   ],
   "source": [
    "\n",
    "fig = plt.figure()\n",
    "cnt=0\n",
    "c=['o', '^', '+', '3', 'x']\n",
    "clr=['0.0', '0.25', '0.5', '0.7', '0.8']\n",
    "\n",
    "\n",
    "for system in systems:\n",
    "    w=open('debug/entropy_%s.tsv' % system, 'w')\n",
    "    xs=[]\n",
    "    ys=[]\n",
    "    print(system.upper())\n",
    "    for rentropy, forms_set in sorted(forms_per_rentropy.items()):\n",
    "        f1=analysis_utils.compute_prf_on_selection(system_articles[system], forms_set)\n",
    "        fc=0\n",
    "        for frm in sorted(list(forms_set)):\n",
    "            interps=interpretations[frm]\n",
    "            if fc==0:\n",
    "                w.write('%f\\t%f\\t%s\\t%s\\n' % (rentropy, f1, frm, ','.join(interps)))\n",
    "            else:\n",
    "                w.write(' \\t \\t%s\\t%s\\n' % (frm, ','.join(interps)))\n",
    "            fc+=1\n",
    "        w.write('\\n')\n",
    "        xs.append(rentropy)\n",
    "        ys.append(f1*100.0)\n",
    "    plt.plot(xs, ys, \"%s-\" % c[cnt], color=clr[cnt], label=system.upper())\n",
    "    cnt+=1\n",
    "    w.close()\n",
    "    \n",
    "for baseline, articles in baseline_articles.items():    \n",
    "    xs=[]\n",
    "    ys=[]\n",
    "    print(baseline.upper())\n",
    "    for rentropy, forms_set in sorted(forms_per_rentropy.items()):\n",
    "        f1=analysis_utils.compute_prf_on_selection(articles, forms_set)\n",
    "        xs.append(rentropy)\n",
    "        ys.append(f1*100.0)\n",
    "    plt.plot(xs, ys, \"%s-\" % c[cnt], color=clr[cnt], label=baseline.upper())\n",
    "    cnt+=1\n",
    "    \n",
    "    \n",
    "plt.legend()\n",
    "plt.xlabel('ENTROPY')\n",
    "plt.ylabel('F1-SCORE')\n",
    "plt.xticks(xs)\n",
    " \n",
    "plt.show()\n",
    "\n",
    "save=True\n",
    "if save:\n",
    "    fig.savefig('img/entropy_f1.png')\n"
   ]
  },
  {
   "cell_type": "markdown",
   "metadata": {},
   "source": [
    "**6.2. Compute correlation between form entropy and P/R/F1**"
   ]
  },
  {
   "cell_type": "code",
   "execution_count": 33,
   "metadata": {},
   "outputs": [
    {
     "name": "stdout",
     "output_type": "stream",
     "text": [
      "AGDISTIS\n",
      "The Spearman correlation between X and Y is: -0.08311556986665172 . Significance:  0.061212824273583794\n",
      "SPOTLIGHT\n",
      "The Spearman correlation between X and Y is: -0.23524589733729376 . Significance:  8.113832622479496e-08\n",
      "WAT\n",
      "The Spearman correlation between X and Y is: -0.26144373183925046 . Significance:  2.197522803352728e-09\n",
      "AGDISTIS\n",
      "The Spearman correlation between X and Y is: -0.06648006753604903 . Significance:  0.134562680619497\n",
      "SPOTLIGHT\n",
      "The Spearman correlation between X and Y is: -0.2183326395917886 . Significance:  6.732813805749248e-07\n",
      "WAT\n",
      "The Spearman correlation between X and Y is: -0.2889069618619888 . Significance:  3.187176369112748e-11\n",
      "AGDISTIS\n",
      "The Spearman correlation between X and Y is: -0.07621405001122962 . Significance:  0.08615427707096446\n",
      "SPOTLIGHT\n",
      "The Spearman correlation between X and Y is: -0.22334562965262822 . Significance:  3.658120262416388e-07\n",
      "WAT\n",
      "The Spearman correlation between X and Y is: -0.3057981829081884 . Significance:  1.857060150069294e-12\n"
     ]
    }
   ],
   "source": [
    "for metric in [prec_by_form, recall_by_form, f1_by_form]:\n",
    "    for system in systems:\n",
    "        print(system.upper())\n",
    "    \n",
    "        dist1, dist2 = analysis_utils.prepare_lists(metric[system], form_entropies)\n",
    "        correlation, significance = spearmanr(dist1, dist2)\n",
    "        print('The Spearman correlation between X and Y is:', correlation, '. Significance: ', significance)"
   ]
  },
  {
   "cell_type": "markdown",
   "metadata": {},
   "source": [
    "**The average correlation across systems between F1-score and entropy is -0.20518622158**"
   ]
  },
  {
   "cell_type": "markdown",
   "metadata": {},
   "source": [
    "### 7) Correlation between instance ranks (of a form) and performance\n",
    "\n",
    "<span style=\"background-color:lightgreen\">Section 5.4. of the paper</span>\n"
   ]
  },
  {
   "cell_type": "markdown",
   "metadata": {},
   "source": [
    "**7.1. Collect interpretations for a form**\n"
   ]
  },
  {
   "cell_type": "code",
   "execution_count": 34,
   "metadata": {
    "collapsed": true
   },
   "outputs": [],
   "source": [
    "interpretations=defaultdict(set)\n",
    "for article in system_articles['spotlight']:\n",
    "    for mention in article.entity_mentions:\n",
    "        form=mention.mention\n",
    "        meaning=mention.gold_link\n",
    "        if not skip_nils or meaning!='--NME--':\n",
    "            interpretations[form].add(meaning)"
   ]
  },
  {
   "cell_type": "code",
   "execution_count": 35,
   "metadata": {},
   "outputs": [
    {
     "data": {
      "text/plain": [
       "{'Marseille', 'Olympique_de_Marseille'}"
      ]
     },
     "execution_count": 35,
     "metadata": {},
     "output_type": "execute_result"
    }
   ],
   "source": [
    "interpretations['Marseille']"
   ]
  },
  {
   "cell_type": "markdown",
   "metadata": {},
   "source": [
    "**7.2. Aggregate per rank**"
   ]
  },
  {
   "cell_type": "code",
   "execution_count": 36,
   "metadata": {
    "collapsed": true
   },
   "outputs": [],
   "source": [
    "def rank_analysis(systems, system_articles, ambiguous_forms, uri_pr=None, ambiguous_only=True, factor='freq'):\n",
    "\n",
    "    print(factor)\n",
    "    fig, axs = plt.subplots(1,3, sharey=True, figsize=(14,3))\n",
    "    p={}\n",
    "    r={}\n",
    "    f1={}\n",
    "\n",
    "    for system in systems:\n",
    "        w=open('debug/%srank_%s.tsv' % (factor, system), 'w')\n",
    "        rank_tuples=analysis_utils.prepare_ranks(system_articles[system], \n",
    "                                                  ambiguous_forms,\n",
    "                                                  uri_pr=uri_pr,\n",
    "                                                  ambiguous_only=ambiguous_only, \n",
    "                                                  factor=factor)\n",
    "        for rank in sorted(rank_tuples.keys()):\n",
    "            w.write('%d\\n' % rank)\n",
    "            for t in rank_tuples[rank]:\n",
    "                w.write(' \\t%s\\t%s\\n' % (t[0], t[1]))\n",
    "            w.write('\\n')\n",
    "        w.close()\n",
    "        #print(rank_tuples)\n",
    "        p[system], r[system], f1[system] = analysis_utils.evaluate_ranks(system_articles[system], \n",
    "                                                          rank_tuples)\n",
    "        \n",
    "        print()\n",
    "\n",
    "    plot_utils.plot_prf(p, systems, axs[0], title=\"PRECISION\")\n",
    "    plot_utils.plot_prf(r, systems, axs[1], title=\"RECALL\")\n",
    "    plot_utils.plot_prf(f1, systems, axs[2], title=\"F1-SCORE\")\n",
    "\n",
    "    plt.show()\n",
    "\n",
    "    fig.savefig('img/accuracy_per_%s_rank.png' % factor, bbox_inches='tight')"
   ]
  },
  {
   "cell_type": "code",
   "execution_count": 37,
   "metadata": {
    "collapsed": true
   },
   "outputs": [],
   "source": []
  },
  {
   "cell_type": "code",
   "execution_count": 38,
   "metadata": {},
   "outputs": [
    {
     "name": "stdout",
     "output_type": "stream",
     "text": [
      "freq\n",
      "tp defaultdict(<class 'int'>, {1: 3865, 2: 415, 3: 50, 5: 1, 6: 1})\n",
      "fp defaultdict(<class 'int'>, {6: 157, 2: 951, 3: 550, 1: 619, 5: 36, 4: 1})\n",
      "fn defaultdict(<class 'int'>, {1: 4227, 2: 1082, 3: 236, 4: 78, 5: 20, 6: 8, 7: 3, 8: 2, 11: 1, 9: 2, 12: 1, 10: 2})\n",
      "precision {1: 0.8619536128456735, 2: 0.30380673499267935, 3: 0.08333333333333333, 4: 0.0, 5: 0.02702702702702703, 6: 0.006329113924050633, 7: 0.0, 8: 0.0, 9: 0.0, 10: 0.0, 11: 0.0, 12: 0.0}\n",
      "\n",
      "recall {1: 0.4776322293623332, 2: 0.2772211088844355, 3: 0.17482517482517482, 4: 0.0, 5: 0.047619047619047616, 6: 0.1111111111111111, 7: 0.0, 8: 0.0, 9: 0.0, 10: 0.0, 11: 0.0, 12: 0.0}\n",
      "\n",
      "f1 {1: 0.6146628498727735, 2: 0.2899056933286762, 3: 0.11286681715575621, 4: 0.0, 5: 0.034482758620689655, 6: 0.011976047904191616, 7: 0.0, 8: 0.0, 9: 0.0, 10: 0.0, 11: 0.0, 12: 0.0}\n",
      "\n",
      "\n",
      "tp defaultdict(<class 'int'>, {1: 5221, 2: 827, 3: 142, 4: 32, 6: 6, 5: 2, 9: 2})\n",
      "fp defaultdict(<class 'int'>, {2: 814, 1: 403, 3: 336, 4: 112, 9: 3, 6: 3, 5: 1})\n",
      "fn defaultdict(<class 'int'>, {1: 2871, 2: 670, 3: 144, 4: 46, 5: 19, 7: 3, 8: 2, 11: 1, 6: 3, 10: 2, 12: 1})\n",
      "precision {1: 0.9283428165007113, 2: 0.5039609993906154, 3: 0.29707112970711297, 4: 0.2222222222222222, 5: 0.6666666666666666, 6: 0.6666666666666666, 7: 0.0, 8: 0.0, 9: 0.4, 10: 0.0, 11: 0.0, 12: 0.0}\n",
      "\n",
      "recall {1: 0.6452051408798813, 2: 0.552438209752839, 3: 0.4965034965034965, 4: 0.41025641025641024, 5: 0.09523809523809523, 6: 0.6666666666666666, 7: 0.0, 8: 0.0, 9: 1.0, 10: 0.0, 11: 0.0, 12: 0.0}\n",
      "\n",
      "f1 {1: 0.7613006707494897, 2: 0.5270873167622689, 3: 0.3717277486910994, 4: 0.2882882882882883, 5: 0.16666666666666666, 6: 0.6666666666666666, 7: 0.0, 8: 0.0, 9: 0.5714285714285715, 10: 0.0, 11: 0.0, 12: 0.0}\n",
      "\n",
      "\n",
      "tp defaultdict(<class 'int'>, {1: 5447, 2: 531, 3: 68, 8: 1, 4: 19, 5: 4, 6: 2})\n",
      "fp defaultdict(<class 'int'>, {1: 476, 2: 475, 3: 143, 4: 36, 5: 9, 6: 1, 8: 1})\n",
      "fn defaultdict(<class 'int'>, {1: 2645, 2: 966, 3: 218, 4: 59, 8: 1, 9: 2, 6: 7, 5: 17, 11: 1, 7: 3, 12: 1, 10: 2})\n",
      "precision {1: 0.91963531993922, 2: 0.5278330019880716, 3: 0.3222748815165877, 4: 0.34545454545454546, 5: 0.3076923076923077, 6: 0.6666666666666666, 7: 0.0, 8: 0.5, 9: 0.0, 10: 0.0, 11: 0.0, 12: 0.0}\n",
      "\n",
      "recall {1: 0.6731339594661394, 2: 0.35470941883767537, 3: 0.23776223776223776, 4: 0.24358974358974358, 5: 0.19047619047619047, 6: 0.2222222222222222, 7: 0.0, 8: 0.5, 9: 0.0, 10: 0.0, 11: 0.0, 12: 0.0}\n",
      "\n",
      "f1 {1: 0.777310024973243, 2: 0.4242908509788254, 3: 0.27364185110663986, 4: 0.2857142857142857, 5: 0.23529411764705882, 6: 0.3333333333333333, 7: 0.0, 8: 0.5, 9: 0.0, 10: 0.0, 11: 0.0, 12: 0.0}\n",
      "\n",
      "\n",
      "[ 1  2  3  4  5  6  7  8  9 10 11 12]\n",
      "[ 1  2  3  4  5  6  7  8  9 10 11 12]\n",
      "[ 1  2  3  4  5  6  7  8  9 10 11 12]\n"
     ]
    },
    {
     "data": {
      "image/png": "[encoded data removed]",
      "text/plain": [
       "<matplotlib.figure.Figure at 0x1271c0d30>"
      ]
     },
     "metadata": {},
     "output_type": "display_data"
    }
   ],
   "source": [
    "rank_analysis(systems, system_articles, ambiguous_forms, ambiguous_only=True, factor='freq')"
   ]
  },
  {
   "cell_type": "markdown",
   "metadata": {},
   "source": [
    "#### 7.3 PR ranks\n"
   ]
  },
  {
   "cell_type": "code",
   "execution_count": 39,
   "metadata": {},
   "outputs": [
    {
     "name": "stdout",
     "output_type": "stream",
     "text": [
      "pr\n",
      "tp defaultdict(<class 'int'>, {1: 3992, 2: 302, 4: 18, 3: 18})\n",
      "fp defaultdict(<class 'int'>, {3: 167, 1: 1773, 2: 372, 4: 2})\n",
      "fn defaultdict(<class 'int'>, {2: 2076, 1: 2810, 3: 535, 4: 100, 5: 103, 6: 17, 11: 5, 10: 5, 9: 3, 7: 2, 8: 1, 12: 1})\n",
      "precision {1: 0.6924544666088465, 2: 0.44807121661721067, 3: 0.0972972972972973, 4: 0.9, 5: 0.0, 6: 0.0, 7: 0.0, 8: 0.0, 9: 0.0, 10: 0.0, 11: 0.0, 12: 0.0}\n",
      "\n",
      "recall {1: 0.5868862099382535, 2: 0.12699747687132043, 3: 0.0325497287522604, 4: 0.15254237288135594, 5: 0.0, 6: 0.0, 7: 0.0, 8: 0.0, 9: 0.0, 10: 0.0, 11: 0.0, 12: 0.0}\n",
      "\n",
      "f1 {1: 0.6353147131375825, 2: 0.19790301441677588, 3: 0.04878048780487805, 4: 0.2608695652173913, 5: 0.0, 6: 0.0, 7: 0.0, 8: 0.0, 9: 0.0, 10: 0.0, 11: 0.0, 12: 0.0}\n",
      "\n",
      "\n",
      "tp defaultdict(<class 'int'>, {1: 4421, 2: 1455, 3: 214, 6: 11, 4: 41, 5: 88, 7: 2})\n",
      "fp defaultdict(<class 'int'>, {2: 698, 1: 518, 3: 256, 5: 53, 4: 89, 6: 55, 7: 3})\n",
      "fn defaultdict(<class 'int'>, {1: 2380, 2: 922, 4: 79, 3: 339, 6: 6, 9: 3, 10: 5, 11: 1, 12: 5, 5: 15, 8: 1})\n",
      "precision {1: 0.8951204697307147, 2: 0.6758012076172782, 3: 0.4553191489361702, 4: 0.3153846153846154, 5: 0.624113475177305, 6: 0.16666666666666666, 7: 0.4, 8: 0.0, 9: 0.0, 10: 0.0, 11: 0.0, 12: 0.0}\n",
      "\n",
      "recall {1: 0.650051463020144, 2: 0.6121161127471603, 3: 0.38698010849909587, 4: 0.3416666666666667, 5: 0.8543689320388349, 6: 0.6470588235294118, 7: 1.0, 8: 0.0, 9: 0.0, 10: 0.0, 11: 0.0, 12: 0.0}\n",
      "\n",
      "f1 {1: 0.7531516183986371, 2: 0.642384105960265, 3: 0.418377321603128, 4: 0.32799999999999996, 5: 0.721311475409836, 6: 0.26506024096385544, 7: 0.5714285714285715, 8: 0.0, 9: 0.0, 10: 0.0, 11: 0.0, 12: 0.0}\n",
      "\n",
      "\n",
      "tp defaultdict(<class 'int'>, {1: 5200, 2: 700, 3: 71, 5: 48, 7: 1, 4: 37, 6: 9, 10: 2})\n",
      "fp defaultdict(<class 'int'>, {1: 813, 3: 46, 5: 19, 2: 234, 4: 22, 6: 6, 7: 1})\n",
      "fn defaultdict(<class 'int'>, {1: 1600, 2: 1678, 3: 483, 4: 82, 5: 55, 6: 8, 7: 1, 11: 5, 10: 3, 8: 1, 9: 3, 12: 1})\n",
      "precision {1: 0.864792948611342, 2: 0.7494646680942184, 3: 0.6068376068376068, 4: 0.6271186440677966, 5: 0.7164179104477612, 6: 0.6, 7: 0.5, 8: 0.0, 9: 0.0, 10: 1.0, 11: 0.0, 12: 0.0}\n",
      "\n",
      "recall {1: 0.7647058823529411, 2: 0.2943650126156434, 3: 0.12815884476534295, 4: 0.31092436974789917, 5: 0.46601941747572817, 6: 0.5294117647058824, 7: 0.5, 8: 0.0, 9: 0.0, 10: 0.4, 11: 0.0, 12: 0.0}\n",
      "\n",
      "f1 {1: 0.8116756419261687, 2: 0.42270531400966177, 3: 0.21162444113263787, 4: 0.4157303370786517, 5: 0.5647058823529411, 6: 0.5625, 7: 0.5, 8: 0.0, 9: 0.0, 10: 0.5714285714285715, 11: 0.0, 12: 0.0}\n",
      "\n",
      "\n",
      "[ 1  2  3  4  5  6  7  8  9 10 11 12]\n",
      "[ 1  2  3  4  5  6  7  8  9 10 11 12]\n",
      "[ 1  2  3  4  5  6  7  8  9 10 11 12]\n"
     ]
    },
    {
     "data": {
      "image/png": "[encoded data removed]",
      "text/plain": [
       "<matplotlib.figure.Figure at 0x11a6d80f0>"
      ]
     },
     "metadata": {},
     "output_type": "display_data"
    }
   ],
   "source": [
    "rank_analysis(systems, system_articles, ambiguous_forms, uri_pr=uri_pr, ambiguous_only=True, factor='pr')"
   ]
  },
  {
   "cell_type": "markdown",
   "metadata": {},
   "source": [
    "### 8) Ambiguity and frequency together against accuracy\n",
    "\n",
    "<span style=\"background-color:lightgreen\">Section 5.3. of the paper</span>"
   ]
  },
  {
   "cell_type": "code",
   "execution_count": 63,
   "metadata": {},
   "outputs": [],
   "source": [
    "def heatmap_me(AMB, FREQ, ACC, system, a, ylbl='', cbar=False, yticks=[]):\n",
    "    data = pd.DataFrame({'AMBIGUITY': AMB, 'FREQ': FREQ, 'ACC': ACC})\n",
    "    data_pivoted = data.pivot(\"FREQ\", \"AMBIGUITY\", \"ACC\")\n",
    "#    fig=plt.figure(figsize = (12,7))\n",
    "    ax = sns.heatmap(data_pivoted, annot=True, linewidths=.5, ax=a,cbar=cbar,fmt='g', yticklabels=yticks)\n",
    "    ax.set_ylabel(ylbl)\n",
    "    ax.set_title(system.upper())\n",
    "    for _, spine in ax.spines.items():\n",
    "        spine.set_edgecolor('darkblue')\n",
    "        spine.set_visible(True)\n",
    "#    plt.show()\n",
    "#    fig.savefig('img/%s_amb_frequency_acc.png' % system)"
   ]
  },
  {
   "cell_type": "code",
   "execution_count": 64,
   "metadata": {
    "collapsed": true
   },
   "outputs": [],
   "source": [
    "def split_forms_per_amb_freq_pair(ambiguity, forms_by_log_count):\n",
    "    af_pairs=defaultdict(set)\n",
    "    for log_freq, forms in forms_by_log_count.items():\n",
    "        for form in forms:\n",
    "            amb=ambiguity[form]\n",
    "            rounded_freq=round(log_freq)\n",
    "            af_pairs[(amb, rounded_freq)].add(form)\n",
    "    return af_pairs"
   ]
  },
  {
   "cell_type": "code",
   "execution_count": 65,
   "metadata": {
    "collapsed": true
   },
   "outputs": [],
   "source": [
    "def evaluate_af_pairs(af_pairs, articles, skip_nils=True):\n",
    "    \n",
    "    tp=defaultdict(int)\n",
    "    fn=defaultdict(int)\n",
    "    fp=defaultdict(int)\n",
    "    \n",
    "    counts=defaultdict(set)\n",
    "    for article in articles:\n",
    "        for mention in article.entity_mentions:\n",
    "            gold = mention.gold_link\n",
    "            syslink = mention.sys_link\n",
    "            form = mention.mention\n",
    "            if skip_nils and gold=='--NME--':\n",
    "                continue\n",
    "            this_pair=None\n",
    "            for pair, forms in af_pairs.items():\n",
    "                if form in forms:\n",
    "                    this_pair=pair\n",
    "            if not this_pair:\n",
    "                continue\n",
    "            else:\n",
    "                counts[this_pair].add(form)\n",
    "            if gold==syslink:\n",
    "                tp[this_pair]+=1\n",
    "            else:\n",
    "                if syslink!='--NME--':\n",
    "                    fp[this_pair]+=1\n",
    "                fn[this_pair]+=1\n",
    "    \n",
    "    agg_counts={}\n",
    "    for pair, forms in counts.items():\n",
    "        agg_counts[pair]=len(forms)\n",
    "    \n",
    "    prec=defaultdict(float)\n",
    "    recall=defaultdict(float)\n",
    "    f1=defaultdict(int)\n",
    "    \n",
    "    for pair in af_pairs.keys():\n",
    "        prec[pair]=tp[pair]/(tp[pair]+fp[pair])\n",
    "        recall[pair]=tp[pair]/(tp[pair]+fn[pair])\n",
    "        if prec[pair]+recall[pair]>0:\n",
    "            f1[pair]=int(100.0*2*prec[pair]*recall[pair]/(prec[pair]+recall[pair]))\n",
    "        else:\n",
    "            f1[pair]=0\n",
    "    \n",
    "    return f1, agg_counts"
   ]
  },
  {
   "cell_type": "code",
   "execution_count": 66,
   "metadata": {
    "collapsed": true
   },
   "outputs": [],
   "source": [
    "forms_by_count = analysis_utils.compute_counts_by_form(system_articles['wat'])\n",
    "forms_by_log_count=analysis_utils.counts_to_log_counts(forms_by_count)\n",
    "freq_intervals = analysis_utils.get_freq_intervals(forms_by_count)\n",
    "\n",
    "total_per_form = analysis_utils.get_freq_totals(system_articles[systems[0]], ambiguous_forms, ambiguous_only=False)\n",
    "af_pairs=split_forms_per_amb_freq_pair(ambiguity, forms_by_log_count)"
   ]
  },
  {
   "cell_type": "code",
   "execution_count": 75,
   "metadata": {
    "collapsed": true
   },
   "outputs": [],
   "source": [
    "def plot_heatmap(data, cnt, freq_intervals, axs=None, system=''):\n",
    "    AMB=[]\n",
    "    FREQ=[]\n",
    "    ACC=[]\n",
    "    yticks=[]\n",
    "    for this_pair, val in data.items():\n",
    "\n",
    "        ACC.append(val)\n",
    "        AMB.append(this_pair[0])\n",
    "        mn=freq_intervals[this_pair[1]][0]\n",
    "        mx=freq_intervals[this_pair[1]][1]\n",
    "        FREQ.append((mn,mx))\n",
    "    if cnt>0:\n",
    "        ylbl=''\n",
    "    else:\n",
    "        ylbl='FREQUENCY'\n",
    "    \n",
    "    for cpl in sorted(list(set(FREQ))):\n",
    "        yticks.append('[ %d, %d ]' % (cpl[0], cpl[1]))\n",
    "    \n",
    "    heatmap_me(AMB, FREQ, ACC, system, axs[cnt], cbar=(cnt==2), ylbl=ylbl, yticks=yticks)\n"
   ]
  },
  {
   "cell_type": "code",
   "execution_count": 83,
   "metadata": {},
   "outputs": [
    {
     "data": {
      "image/png": "[encoded data removed]",
      "text/plain": [
       "<matplotlib.figure.Figure at 0x1279171d0>"
      ]
     },
     "metadata": {},
     "output_type": "display_data"
    }
   ],
   "source": [
    "plt.rcParams.update({'font.size': 11})\n",
    "\n",
    "fig, axs = plt.subplots(1,4, sharey=True, figsize=(16,4), gridspec_kw={'width_ratios':[1,1,1.2,1]})\n",
    "cnt=0\n",
    "\n",
    "for system in systems:\n",
    "    \n",
    "    f1s, counts = evaluate_af_pairs(af_pairs, system_articles[system])\n",
    "    \n",
    "    plot_heatmap(f1s, cnt, freq_intervals, axs, system)\n",
    "\n",
    "    cnt+=1\n",
    "    \n",
    "plot_heatmap(counts, cnt, freq_intervals, axs, 'unique forms per bucket')\n",
    "    \n",
    "plt.show()\n",
    "fig.savefig('img/amb_frequency_acc.png')"
   ]
  },
  {
   "cell_type": "code",
   "execution_count": null,
   "metadata": {
    "collapsed": true
   },
   "outputs": [],
   "source": []
  },
  {
   "cell_type": "code",
   "execution_count": null,
   "metadata": {
    "collapsed": true
   },
   "outputs": [],
   "source": []
  }
 ],
 "metadata": {
  "anaconda-cloud": {},
  "kernelspec": {
   "display_name": "Python 3",
   "language": "python",
   "name": "python3"
  },
  "language_info": {
   "codemirror_mode": {
    "name": "ipython",
    "version": 3
   },
   "file_extension": ".py",
   "mimetype": "text/x-python",
   "name": "python",
   "nbconvert_exporter": "python",
   "pygments_lexer": "ipython3",
   "version": "3.6.1"
  }
 },
 "nbformat": 4,
 "nbformat_minor": 1
}
