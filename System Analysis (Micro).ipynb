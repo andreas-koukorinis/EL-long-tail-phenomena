{
 "cells": [
  {
   "cell_type": "markdown",
   "metadata": {},
   "source": [
    "# System analysis (Micro)"
   ]
  },
  {
   "cell_type": "code",
   "execution_count": 1,
   "metadata": {
    "collapsed": true
   },
   "outputs": [],
   "source": [
    "import pickle\n",
    "import analysis_utils\n",
    "import plot_utils\n",
    "from collections import defaultdict, OrderedDict\n",
    "import math\n",
    "from scipy.stats import pearsonr, spearmanr\n",
    "import numpy as np\n",
    "from scipy.stats import kendalltau\n",
    "import pandas as pd\n",
    "from scipy.stats import entropy\n",
    "from copy import deepcopy\n",
    "import random"
   ]
  },
  {
   "cell_type": "code",
   "execution_count": 2,
   "metadata": {
    "collapsed": true
   },
   "outputs": [],
   "source": [
    "import matplotlib.pyplot as plt\n",
    "%matplotlib inline\n",
    "plt.rcParams.update({'font.size': 12})\n",
    "\n",
    "\n",
    "import seaborn as sns\n",
    "sns.set_style(\"whitegrid\")"
   ]
  },
  {
   "cell_type": "code",
   "execution_count": 3,
   "metadata": {
    "collapsed": true
   },
   "outputs": [],
   "source": [
    "debug=False"
   ]
  },
  {
   "cell_type": "markdown",
   "metadata": {},
   "source": [
    "### 1) Load data from BIN files"
   ]
  },
  {
   "cell_type": "code",
   "execution_count": 4,
   "metadata": {
    "collapsed": true
   },
   "outputs": [],
   "source": [
    "n3_title='n3'\n",
    "aida_title='aida'\n",
    "titles=[aida_title, n3_title]\n",
    "systems=['agdistis', 'spotlight', 'wat']"
   ]
  },
  {
   "cell_type": "code",
   "execution_count": 5,
   "metadata": {
    "collapsed": true
   },
   "outputs": [],
   "source": [
    "### Load data from disk\n",
    "system_data_articles={}\n",
    "for system in systems:\n",
    "    system_data_articles[system]={}\n",
    "    for data_title in titles:\n",
    "        with open('bin/%s_%s.bin' % (data_title, system), 'rb') as outfile:\n",
    "            system_data_articles[system][data_title]=pickle.load(outfile)"
   ]
  },
  {
   "cell_type": "markdown",
   "metadata": {},
   "source": [
    "#### [DEBUG-only] Store agdistis output to a file"
   ]
  },
  {
   "cell_type": "code",
   "execution_count": 6,
   "metadata": {
    "collapsed": true
   },
   "outputs": [],
   "source": [
    "if debug:\n",
    "    with open('debug/agdmag_aida_debug.tsv', 'w') as w:\n",
    "        w.write('collection\\tarticle_ID\\tbegin_index\\tend_index\\tmention\\tgold_link\\tsystem_link\\n')\n",
    "        for article in aida_agd_articles:\n",
    "            for mention in article.entity_mentions:\n",
    "                if mention.sys_link.startswith('http://aksw.org/'):\n",
    "                    mention.sys_link = '--NME--'\n",
    "\n",
    "                a_row=[article.collection, str(article.identifier), \n",
    "                       str(mention.begin_index), str(mention.end_index), \n",
    "                       mention.mention, mention.gold_link, \n",
    "                       mention.sys_link]\n",
    "                w.write('\\t'.join(a_row) + '\\n')"
   ]
  },
  {
   "cell_type": "markdown",
   "metadata": {},
   "source": [
    "**1.1. Pick dataset**"
   ]
  },
  {
   "cell_type": "code",
   "execution_count": 7,
   "metadata": {
    "collapsed": true
   },
   "outputs": [],
   "source": [
    "system_articles = {}\n",
    "\n",
    "for system in systems:\n",
    "    system_articles[system]=set()\n",
    "    for data_title in titles: \n",
    "        system_articles[system] |= system_data_articles[system][data_title]"
   ]
  },
  {
   "cell_type": "markdown",
   "metadata": {},
   "source": [
    "**1.2. Normalize AGDISTIS NILs given as custom AKSW URIs **"
   ]
  },
  {
   "cell_type": "code",
   "execution_count": 8,
   "metadata": {
    "collapsed": true
   },
   "outputs": [],
   "source": [
    "for article in system_articles['agdistis']:\n",
    "    for mention in article.entity_mentions:\n",
    "        if mention.sys_link.startswith('http://aksw.org/'):\n",
    "            mention.sys_link = '--NME--'\n"
   ]
  },
  {
   "cell_type": "markdown",
   "metadata": {},
   "source": [
    "**1.3.Normalize forms to lower-case (disabled for now)**"
   ]
  },
  {
   "cell_type": "code",
   "execution_count": 9,
   "metadata": {
    "collapsed": true
   },
   "outputs": [],
   "source": [
    "if debug:\n",
    "    for system in systems:\n",
    "        for article in system_articles[system]:\n",
    "            for mention in article.entity_mentions:\n",
    "                mention.mention=mention.mention.lower()\n",
    "                print(mention.mention)"
   ]
  },
  {
   "cell_type": "markdown",
   "metadata": {},
   "source": [
    "### 2) Performance\n",
    "\n",
    "<span style=\"background-color:lightgreen\">Section 5.1. of the paper</span>\n",
    "\n",
    "#### 2.1. Overall"
   ]
  },
  {
   "cell_type": "code",
   "execution_count": 10,
   "metadata": {
    "collapsed": true
   },
   "outputs": [],
   "source": [
    "skip_nils=True\n",
    "skip_nonnils=False"
   ]
  },
  {
   "cell_type": "code",
   "execution_count": 11,
   "metadata": {},
   "outputs": [
    {
     "name": "stdout",
     "output_type": "stream",
     "text": [
      "AGDISTIS\n",
      "17222 9786 11769\n",
      "0.6376629146919431 0.5940464282018557 0.615082412185932\n",
      "0.615082412185932\n",
      "\n",
      "SPOTLIGHT\n",
      "21150 5505 7841\n",
      "0.7934721440630276 0.7295367527853471 0.7601624555224096\n",
      "0.7601624555224096\n",
      "\n",
      "WAT\n",
      "19027 2420 9964\n",
      "0.8871637058796102 0.6563071297989032 0.7544708354811849\n",
      "0.7544708354811849\n",
      "\n"
     ]
    }
   ],
   "source": [
    "all_sys_accs = defaultdict(dict)\n",
    "for system in systems:\n",
    "    print(system.upper())\n",
    "    sys_acc=analysis_utils.overall_performance_prf(system_articles[system], \n",
    "                                               skip_nils, \n",
    "                                               skip_nonnils)\n",
    "    all_sys_accs[system]['overall']=sys_acc\n",
    "#    scores.append(['overall', system, sys_acc])\n",
    "    print(sys_acc)\n",
    "    print()\n"
   ]
  },
  {
   "cell_type": "markdown",
   "metadata": {},
   "source": [
    "#### 2.2. Only forms that are interpretted as NILs and not-NILs"
   ]
  },
  {
   "cell_type": "code",
   "execution_count": 12,
   "metadata": {
    "collapsed": true
   },
   "outputs": [],
   "source": [
    "if debug:\n",
    "    for system in systems:\n",
    "        interpretations, references = analysis_utils.get_interpretations_and_references(system_articles[system], skip_nils=False)\n",
    "        ambiguity={}\n",
    "        for form,meanings in interpretations.items():\n",
    "            ambiguity[form]=len(meanings)\n",
    "\n",
    "        nil_nonnil_forms=set()\n",
    "        for form, amb in ambiguity.items():\n",
    "            if amb>1:\n",
    "                if '--NME--' in interpretations[form]:\n",
    "                    nil_nonnil_forms.add(form)\n",
    "\n",
    "        nn_f_acc=analysis_utils.compute_prf_on_selection(system_articles[system], nil_nonnil_forms)\n",
    "        print(system, nn_f_acc)\n",
    "        all_sys_accs[system]['forms with nils & non-nils']=nn_f_acc\n",
    "    #    scores.append(['forms with nils & non-nils', system, nn_f_acc])"
   ]
  },
  {
   "cell_type": "markdown",
   "metadata": {},
   "source": [
    "#### 2.3. Only ambiguous forms"
   ]
  },
  {
   "cell_type": "code",
   "execution_count": 13,
   "metadata": {},
   "outputs": [
    {
     "name": "stdout",
     "output_type": "stream",
     "text": [
      "4682 4869 5318\n",
      "0.4902104491676264 0.4682 0.4789524832489387\n",
      "agdistis 0.4789524832489387\n",
      "6502 3446 3498\n",
      "0.6535987133092079 0.6502 0.6518949268097053\n",
      "spotlight 0.6518949268097053\n",
      "6108 1665 3922\n",
      "0.785796989579313 0.6089730807577268 0.6861764871089142\n",
      "wat 0.6861764871089142\n"
     ]
    }
   ],
   "source": [
    "for system in systems:\n",
    "    interpretations, references = analysis_utils.get_interpretations_and_references(system_articles[system], skip_nils=True)\n",
    "    ambiguity={}\n",
    "    for form,meanings in interpretations.items():\n",
    "        ambiguity[form]=len(meanings)\n",
    "\n",
    "    ambiguous_forms=set()\n",
    "    for form, amb in ambiguity.items():\n",
    "        if amb>1:\n",
    "            ambiguous_forms.add(form)\n",
    "\n",
    "    amb_f_acc=analysis_utils.compute_prf_on_selection(system_articles[system], ambiguous_forms)\n",
    "    print(system, amb_f_acc)\n",
    "    all_sys_accs[system]['ambiguous forms']=amb_f_acc\n",
    "#    scores.append(['ambiguous forms', system, amb_f_acc])"
   ]
  },
  {
   "cell_type": "markdown",
   "metadata": {},
   "source": [
    "** 2.4. Prepare and plot **"
   ]
  },
  {
   "cell_type": "code",
   "execution_count": 14,
   "metadata": {
    "collapsed": true
   },
   "outputs": [],
   "source": [
    "scores=analysis_utils.prepare_scores_to_plot(all_sys_accs)"
   ]
  },
  {
   "cell_type": "code",
   "execution_count": 15,
   "metadata": {},
   "outputs": [
    {
     "name": "stdout",
     "output_type": "stream",
     "text": [
      "['overall', 'ambiguous forms']\n",
      "['AGDISTIS', 'SPOTLIGHT', 'WAT']\n",
      "width: 0.3\n",
      "evaluation: overall\n",
      "0.615082412185932\n",
      "0.7601624555224096\n",
      "0.7544708354811849\n",
      "evaluation: ambiguous forms\n",
      "0.4789524832489387\n",
      "0.6518949268097053\n",
      "0.6861764871089142\n"
     ]
    },
    {
     "data": {
      "text/plain": [
       "<matplotlib.figure.Figure at 0x11ebf5940>"
      ]
     },
     "metadata": {},
     "output_type": "display_data"
    },
    {
     "data": {
      "image/png": "[encoded data removed]",
      "text/plain": [
       "<matplotlib.figure.Figure at 0x11ebf80f0>"
      ]
     },
     "metadata": {},
     "output_type": "display_data"
    }
   ],
   "source": [
    "plot_utils.plot_scores(scores, title='Scores of systems')\n",
    "#plot_scores(scores, title='Scores of systems')"
   ]
  },
  {
   "cell_type": "markdown",
   "metadata": {},
   "source": [
    "### 3) Baselines"
   ]
  },
  {
   "cell_type": "code",
   "execution_count": 16,
   "metadata": {
    "collapsed": true
   },
   "outputs": [],
   "source": [
    "baseline_articles = {}"
   ]
  },
  {
   "cell_type": "code",
   "execution_count": 17,
   "metadata": {
    "collapsed": true
   },
   "outputs": [],
   "source": [
    "freq_system='x freq baseline'\n",
    "random_system='x random baseline'\n",
    "\n",
    "totals=analysis_utils.get_freq_totals(system_articles[systems[0]],\n",
    "                                      set(),\n",
    "                                      ambiguous_only=False\n",
    "                                     )\n",
    "freq_baseline_articles=deepcopy(system_articles['agdistis'])\n",
    "pr_baseline_articles=deepcopy(system_articles['agdistis'])\n",
    "random_baseline_articles=deepcopy(system_articles['agdistis'])\n"
   ]
  },
  {
   "cell_type": "code",
   "execution_count": 18,
   "metadata": {
    "collapsed": true
   },
   "outputs": [],
   "source": [
    "\n",
    "\n",
    "form_to_mostfreq=defaultdict(lambda: '--NME--')\n",
    "form_to_highest_pr = defaultdict(lambda: '--NME--')\n",
    "for form, dist in totals.items():\n",
    "    key_max = max(dist.keys(), key=(lambda k: dist[k]))\n",
    "    form_to_mostfreq[form]=key_max"
   ]
  },
  {
   "cell_type": "code",
   "execution_count": 19,
   "metadata": {
    "collapsed": true
   },
   "outputs": [],
   "source": [
    "for article in freq_baseline_articles:\n",
    "    for mention in article.entity_mentions:\n",
    "        mention.sys_link=form_to_mostfreq[mention.mention]\n",
    "        \n",
    "for article in random_baseline_articles:\n",
    "    for mention in article.entity_mentions:\n",
    "        if mention.mention in totals.keys() and totals[mention.mention].keys():\n",
    "            key_random=random.choice(list(totals[mention.mention].keys()))\n",
    "        else:\n",
    "            key_random='--NME--'\n",
    "        mention.sys_link=key_random\n",
    "        \n",
    "baseline_articles[freq_system]=freq_baseline_articles\n",
    "baseline_articles[random_system]=random_baseline_articles"
   ]
  },
  {
   "cell_type": "code",
   "execution_count": 20,
   "metadata": {},
   "outputs": [
    {
     "name": "stdout",
     "output_type": "stream",
     "text": [
      "27089 1902 1902\n",
      "0.9343934324445518 0.9343934324445518 0.9343934324445516\n",
      "0.9343934324445516\n",
      "22727 6264 6264\n",
      "0.783932944706978 0.783932944706978 0.783932944706978\n",
      "0.783932944706978\n"
     ]
    }
   ],
   "source": [
    "for baseline, articles in baseline_articles.items():\n",
    "    sys_acc=analysis_utils.overall_performance_prf(articles, skip_nils=True, skip_nonnils=False)\n",
    "    print(sys_acc)\n",
    "    all_sys_accs[baseline]['overall']=sys_acc\n"
   ]
  },
  {
   "cell_type": "code",
   "execution_count": 21,
   "metadata": {},
   "outputs": [
    {
     "name": "stdout",
     "output_type": "stream",
     "text": [
      "8092 2099 1902\n",
      "0.7940339515258561 0.8096858114868921 0.8017835026009412\n",
      "3730 6461 6264\n",
      "0.36600922382494355 0.37322393436061635 0.36958137230616794\n"
     ]
    }
   ],
   "source": [
    "for baseline, articles in baseline_articles.items():\n",
    "    amb_f_acc=analysis_utils.compute_prf_on_selection(articles, ambiguous_forms)\n",
    "    all_sys_accs[baseline]['ambiguous forms']=amb_f_acc\n",
    "    if debug: \n",
    "        nn_f_acc=analysis_utils.compute_prf_on_selection(articles, nil_nonnil_forms)\n",
    "        all_sys_accs[baseline]['forms with nils & non-nils']=nn_f_acc"
   ]
  },
  {
   "cell_type": "markdown",
   "metadata": {},
   "source": [
    "### 4) Prepare the data needed to compare frequency/popularity and performance"
   ]
  },
  {
   "cell_type": "markdown",
   "metadata": {},
   "source": [
    "**4.1. Compute P, R and F1 per form and instance**"
   ]
  },
  {
   "cell_type": "code",
   "execution_count": 22,
   "metadata": {
    "collapsed": true
   },
   "outputs": [],
   "source": [
    "def evaluate_per_form_or_instance(articles, which='form', skip_nils=True, ambiguous_only=False, ambiguous_forms=None):\n",
    "    \"\"\"\n",
    "    Evaluate ranks for precision, recall, and F1-score.\n",
    "    \"\"\"\n",
    "    tps=defaultdict(int)\n",
    "    fns=defaultdict(int)\n",
    "    fps=defaultdict(int)\n",
    "   \n",
    "\n",
    "    all_cases=set()\n",
    "    for article in articles:\n",
    "        for mention in article.entity_mentions:\n",
    "                form=mention.mention\n",
    "                meaning=mention.gold_link\n",
    "                sys_meaning=mention.sys_link\n",
    "                if skip_nils and meaning=='--NME--':\n",
    "                    continue\n",
    "                if ambiguous_only and form not in ambiguous_forms:\n",
    "                    continue\n",
    "                if which=='form':\n",
    "                    factor_sys=form\n",
    "                    factor_gold=form\n",
    "                else:\n",
    "                    factor_gold=meaning\n",
    "                    factor_sys=sys_meaning\n",
    "                all_cases.add(factor_gold)\n",
    "                all_cases.add(factor_sys)\n",
    "                if sys_meaning==meaning:\n",
    "                    tps[factor_gold]+=1\n",
    "                else:\n",
    "                    if meaning and meaning!='--NME--':\n",
    "                        fns[factor_gold]+=1\n",
    "                    if sys_meaning and sys_meaning!='--NME--':\n",
    "                        fps[factor_sys]+=1\n",
    "\n",
    "    prec={}\n",
    "    recall={}\n",
    "    f1={}\n",
    "\n",
    "    for factor in all_cases:\n",
    "        if tps[factor]+fps[factor]>0:\n",
    "            prec[factor]=tps[factor]/(tps[factor]+fps[factor])\n",
    "        else:\n",
    "            prec[factor]=0.0\n",
    "        if tps[factor]+fns[factor]>0:\n",
    "            recall[factor]=tps[factor]/(tps[factor]+fns[factor])\n",
    "        else:\n",
    "            recall[factor]=0.0\n",
    "        if prec[factor]+recall[factor]>0:\n",
    "            f1[factor]=2*prec[factor]*recall[factor]/(prec[factor]+recall[factor])\n",
    "        else:\n",
    "            f1[factor]=0.0\n",
    "    return prec, recall, f1"
   ]
  },
  {
   "cell_type": "code",
   "execution_count": 49,
   "metadata": {
    "collapsed": true
   },
   "outputs": [],
   "source": [
    "prec_by_form = {system: defaultdict(float) for system in systems}\n",
    "recall_by_form = {system: defaultdict(float) for system in systems}\n",
    "f1_by_form = {system: defaultdict(float) for system in systems}\n",
    "\n",
    "for system in systems:\n",
    "    prf = evaluate_per_form_or_instance(system_articles[system], 'form', \n",
    "                                        ambiguous_only=False, \n",
    "                                        ambiguous_forms=ambiguous_forms)\n",
    "    prec_by_form[system]=prf[0]\n",
    "    recall_by_form[system]=prf[1]\n",
    "    f1_by_form[system]=prf[2]"
   ]
  },
  {
   "cell_type": "code",
   "execution_count": 50,
   "metadata": {
    "collapsed": true
   },
   "outputs": [],
   "source": [
    "prec_by_instance = {system: defaultdict(float) for system in systems}\n",
    "recall_by_instance = {system: defaultdict(float) for system in systems}\n",
    "f1_by_instance = {system: defaultdict(float) for system in systems}\n",
    "\n",
    "for system in systems:\n",
    "    prf = evaluate_per_form_or_instance(system_articles[system], 'instance', \n",
    "                                        ambiguous_only=False, \n",
    "                                        ambiguous_forms=ambiguous_forms)\n",
    "    prec_by_instance[system]=prf[0]\n",
    "    recall_by_instance[system]=prf[1]\n",
    "    f1_by_instance[system]=prf[2]"
   ]
  },
  {
   "cell_type": "markdown",
   "metadata": {},
   "source": [
    "**4.2. Obtain frequency distributions for forms and instances**"
   ]
  },
  {
   "cell_type": "code",
   "execution_count": 25,
   "metadata": {
    "collapsed": true
   },
   "outputs": [],
   "source": [
    "instance_frequencies, form_frequencies=analysis_utils.get_mention_counts(system_articles[systems[0]])"
   ]
  },
  {
   "cell_type": "markdown",
   "metadata": {},
   "source": [
    "**4.3. Obtain PageRank values**"
   ]
  },
  {
   "cell_type": "code",
   "execution_count": 51,
   "metadata": {
    "collapsed": true
   },
   "outputs": [],
   "source": [
    "skip_zeros=True\n",
    "pagerank_frequency, pr_uniq, uri_pr = analysis_utils.get_pageranks(system_articles['spotlight'],\n",
    "                                                                     skip_zeros=skip_zeros,\n",
    "                                                                     ambiguous_only=False,\n",
    "                                                                      ambiguous_forms=ambiguous_forms)"
   ]
  },
  {
   "cell_type": "markdown",
   "metadata": {},
   "source": [
    "**4.4. Prepare entropy values**"
   ]
  },
  {
   "cell_type": "code",
   "execution_count": 27,
   "metadata": {
    "collapsed": true
   },
   "outputs": [],
   "source": [
    "form_entropies={}\n",
    "for form in ambiguous_forms:\n",
    "    counts=analysis_utils.get_form_counts(system_articles['spotlight'], form)\n",
    "    counts=list(counts)\n",
    "    form_entropies[form]=entropy(counts ,base=len(counts))"
   ]
  },
  {
   "cell_type": "markdown",
   "metadata": {},
   "source": [
    "### 5) Compute Correlations between frequency/popularity and performance\n",
    "\n",
    "<span style=\"background-color:lightgreen\">Section 5.2. of the paper</span>"
   ]
  },
  {
   "cell_type": "markdown",
   "metadata": {},
   "source": [
    "** 5.1. Compute correlation between form frequency and performance**"
   ]
  },
  {
   "cell_type": "code",
   "execution_count": 52,
   "metadata": {},
   "outputs": [
    {
     "name": "stdout",
     "output_type": "stream",
     "text": [
      "AGDISTIS\n",
      "The Spearman correlation between X and Y is: 0.2738635468207578 . Significance:  0.009003577920576223\n",
      "SPOTLIGHT\n",
      "The Spearman correlation between X and Y is: 0.13211764600861006 . Significance:  0.21449224922784127\n",
      "WAT\n",
      "The Spearman correlation between X and Y is: 0.4662792325483932 . Significance:  3.6244473600530232e-06\n"
     ]
    }
   ],
   "source": [
    "agg_per_frequency=defaultdict(set)\n",
    "for form, frequency in form_frequencies.items():\n",
    "    agg_per_frequency[frequency].add(form)\n",
    "\n",
    "for system in systems:\n",
    "    dist1=[]\n",
    "    dist2=[]\n",
    "    for frequency, forms in sorted(agg_per_frequency.items()):\n",
    "        f1_values=[]\n",
    "        for form in forms:\n",
    "            try:\n",
    "                f1_values.append(f1_by_form[system][form])\n",
    "            except KeyError:\n",
    "                continue\n",
    "        if f1_values:\n",
    "            dist1.append(frequency)\n",
    "            dist2.append(np.mean(f1_values))\n",
    "    correlation, significance = spearmanr(dist1, dist2)\n",
    "    print(system.upper())\n",
    "    print('The Spearman correlation between X and Y is:', correlation, '. Significance: ', significance)"
   ]
  },
  {
   "cell_type": "markdown",
   "metadata": {},
   "source": [
    "** 5.2. Compute correlation between instance frequency and performance**"
   ]
  },
  {
   "cell_type": "code",
   "execution_count": 53,
   "metadata": {},
   "outputs": [
    {
     "name": "stdout",
     "output_type": "stream",
     "text": [
      "AGDISTIS\n",
      "The Spearman correlation between X and Y is: 0.3812486003427165 . Significance:  0.00014997013289569768\n",
      "SPOTLIGHT\n",
      "The Spearman correlation between X and Y is: 0.1847205314484163 . Significance:  0.07469358495318532\n",
      "WAT\n",
      "The Spearman correlation between X and Y is: 0.5049958458259581 . Significance:  2.0970549619133197e-07\n"
     ]
    }
   ],
   "source": [
    "agg_inst_per_frequency=defaultdict(set)\n",
    "for instance, frequency in instance_frequencies.items():\n",
    "    agg_inst_per_frequency[frequency].add(instance)\n",
    "\n",
    "for system in systems:\n",
    "    dist1=[]\n",
    "    dist2=[]\n",
    "    for frequency, instances in sorted(agg_inst_per_frequency.items()):\n",
    "        f1_values=[]\n",
    "        for instance in instances:\n",
    "            try:\n",
    "                f1_values.append(f1_by_instance[system][instance])\n",
    "            except KeyError:\n",
    "                continue\n",
    "        if f1_values:\n",
    "            dist1.append(frequency)\n",
    "            dist2.append(np.mean(f1_values))\n",
    "    correlation, significance = spearmanr(dist1, dist2)\n",
    "    print(system.upper())\n",
    "    print('The Spearman correlation between X and Y is:', correlation, '. Significance: ', significance)"
   ]
  },
  {
   "cell_type": "markdown",
   "metadata": {},
   "source": [
    "** 5.3. Compute correlation between instance PageRank and performance**"
   ]
  },
  {
   "cell_type": "code",
   "execution_count": 54,
   "metadata": {},
   "outputs": [
    {
     "name": "stdout",
     "output_type": "stream",
     "text": [
      "AGDISTIS\n",
      "The Spearman correlation between X and Y is: 0.1464751663956799 . Significance:  0.0010446734961972902\n",
      "SPOTLIGHT\n",
      "The Spearman correlation between X and Y is: 0.13565778335932957 . Significance:  0.0024153011696557186\n",
      "WAT\n",
      "The Spearman correlation between X and Y is: 0.3163862093504307 . Significance:  4.857287198280011e-13\n"
     ]
    }
   ],
   "source": [
    "agg_inst_per_pr=defaultdict(set)\n",
    "for instance, i_pr in uri_pr.items():\n",
    "    agg_inst_per_pr[i_pr].add(instance)\n",
    "\n",
    "for system in systems:\n",
    "    dist1=[]\n",
    "    dist2=[]\n",
    "    for i_pr, instances in sorted(agg_inst_per_pr.items()):\n",
    "        f1_values=[]\n",
    "        for instance in instances:\n",
    "            try:\n",
    "                f1_values.append(f1_by_instance[system][instance])\n",
    "            except KeyError:\n",
    "                continue\n",
    "        if f1_values:\n",
    "            dist1.append(i_pr)\n",
    "            dist2.append(np.mean(f1_values))\n",
    "    correlation, significance = spearmanr(dist1, dist2)\n",
    "    print(system.upper())\n",
    "    print('The Spearman correlation between X and Y is:', correlation, '. Significance: ', significance)"
   ]
  },
  {
   "cell_type": "markdown",
   "metadata": {},
   "source": [
    "### 6) Entropy\n",
    "\n",
    "<span style=\"background-color:lightgreen\">Section 5.4. of the paper</span>\n"
   ]
  },
  {
   "cell_type": "markdown",
   "metadata": {},
   "source": [
    "**6.1. Plot F1-scores per entropy class**"
   ]
  },
  {
   "cell_type": "code",
   "execution_count": 31,
   "metadata": {
    "collapsed": true
   },
   "outputs": [],
   "source": [
    "forms_per_rentropy=defaultdict(set)\n",
    "for form, entr in form_entropies.items():\n",
    "    rounded_entropy=round(entr,1)\n",
    "    forms_per_rentropy[rounded_entropy].add(form)"
   ]
  },
  {
   "cell_type": "code",
   "execution_count": 32,
   "metadata": {},
   "outputs": [
    {
     "name": "stdout",
     "output_type": "stream",
     "text": [
      "AGDISTIS\n",
      "1099 416 869\n",
      "0.7254125412541255 0.5584349593495935 0.6310651737008326\n",
      "845 250 275\n",
      "0.771689497716895 0.7544642857142857 0.762979683972912\n",
      "558 257 251\n",
      "0.6846625766871166 0.6897404202719407 0.687192118226601\n",
      "518 498 491\n",
      "0.5098425196850394 0.5133795837462835 0.5116049382716049\n",
      "376 575 587\n",
      "0.3953732912723449 0.3904465212876428 0.3928944618599791\n",
      "289 532 528\n",
      "0.3520097442143727 0.3537331701346389 0.35286935286935284\n",
      "256 782 778\n",
      "0.2466281310211946 0.24758220502901354 0.24710424710424708\n",
      "247 568 540\n",
      "0.3030674846625767 0.3138500635324015 0.3083645443196005\n",
      "220 406 405\n",
      "0.3514376996805112 0.352 0.3517186250999201\n",
      "274 585 594\n",
      "0.3189755529685681 0.315668202764977 0.3173132599884192\n",
      "SPOTLIGHT\n",
      "1542 409 426\n",
      "0.7903639159405433 0.7835365853658537 0.7869354427149784\n",
      "871 227 248\n",
      "0.7932604735883424 0.7783735478105451 0.7857465042850699\n",
      "638 158 172\n",
      "0.8015075376884422 0.7876543209876543 0.7945205479452055\n",
      "712 290 297\n",
      "0.7105788423153693 0.7056491575817642 0.7081054201889607\n",
      "554 414 407\n",
      "0.5723140495867769 0.5764828303850156 0.5743908761016071\n",
      "418 386 399\n",
      "0.5199004975124378 0.5116279069767442 0.5157310302282542\n",
      "524 481 511\n",
      "0.5213930348258706 0.506280193236715 0.5137254901960785\n",
      "378 404 410\n",
      "0.4833759590792839 0.4796954314720812 0.48152866242038217\n",
      "364 263 262\n",
      "0.580542264752791 0.5814696485623003 0.5810055865921788\n",
      "501 414 366\n",
      "0.5475409836065573 0.5778546712802768 0.5622895622895622\n",
      "WAT\n",
      "1770 92 199\n",
      "0.9505907626208379 0.898933468765871 0.9240407204385278\n",
      "887 65 232\n",
      "0.9317226890756303 0.7926720285969616 0.8565910188314825\n",
      "610 94 199\n",
      "0.8664772727272727 0.754017305315204 0.806345009914078\n",
      "622 160 387\n",
      "0.7953964194373402 0.6164519326065411 0.6945840312674484\n",
      "511 194 451\n",
      "0.724822695035461 0.5311850311850311 0.6130773845230955\n",
      "349 170 470\n",
      "0.6724470134874759 0.4261294261294261 0.5216741405082213\n",
      "434 203 603\n",
      "0.6813186813186813 0.4185149469623915 0.5185185185185185\n",
      "313 183 482\n",
      "0.6310483870967742 0.3937106918238994 0.48489542989930295\n",
      "256 159 380\n",
      "0.6168674698795181 0.4025157232704403 0.4871550903901047\n",
      "356 345 519\n",
      "0.5078459343794579 0.40685714285714286 0.4517766497461929\n",
      "X FREQ BASELINE\n",
      "1933 48 35\n",
      "0.9757698132256436 0.9822154471544715 0.9789820207647505\n",
      "1071 49 48\n",
      "0.95625 0.9571045576407506 0.9566770879857079\n",
      "746 69 63\n",
      "0.9153374233128835 0.9221260815822002 0.9187192118226601\n",
      "894 122 115\n",
      "0.8799212598425197 0.8860257680872151 0.8829629629629631\n",
      "785 194 176\n",
      "0.8018386108273748 0.8168574401664932 0.8092783505154638\n",
      "623 198 194\n",
      "0.758830694275274 0.762545899632803 0.7606837606837608\n",
      "698 357 336\n",
      "0.6616113744075829 0.6750483558994197 0.6682623264719962\n",
      "489 330 298\n",
      "0.5970695970695971 0.6213468869123253 0.6089663760896636\n",
      "394 259 231\n",
      "0.6033690658499234 0.6304 0.6165884194053208\n",
      "459 473 406\n",
      "0.4924892703862661 0.530635838150289 0.5108514190317195\n",
      "X RANDOM BASELINE\n",
      "748 1233 1220\n",
      "0.37758707723372037 0.3800813008130081 0.37883008356545966\n",
      "406 714 713\n",
      "0.3625 0.36282394995531725 0.36266190263510495\n",
      "294 521 515\n",
      "0.36073619631901843 0.36341161928306553 0.3620689655172414\n",
      "389 627 620\n",
      "0.3828740157480315 0.3855302279484638 0.3841975308641975\n",
      "310 669 651\n",
      "0.3166496424923391 0.3225806451612903 0.3195876288659794\n",
      "294 527 523\n",
      "0.35809987819732036 0.3598531211750306 0.358974358974359\n",
      "346 709 688\n",
      "0.32796208530805687 0.3346228239845261 0.33125897558640494\n",
      "276 543 511\n",
      "0.336996336996337 0.35069885641677256 0.3437110834371108\n",
      "290 363 335\n",
      "0.444104134762634 0.464 0.4538341158059468\n",
      "377 555 488\n",
      "0.40450643776824036 0.43583815028901735 0.41958820255982193\n"
     ]
    },
    {
     "data": {
      "image/png": "[encoded data removed]",
      "text/plain": [
       "<matplotlib.figure.Figure at 0x11ebf5390>"
      ]
     },
     "metadata": {},
     "output_type": "display_data"
    }
   ],
   "source": [
    "\n",
    "fig = plt.figure()\n",
    "cnt=0\n",
    "c=['o', '^', '+', '3', 'x']\n",
    "clr=['0.0', '0.25', '0.5', '0.7', '0.8']\n",
    "\n",
    "\n",
    "for system in systems:\n",
    "    w=open('debug/entropy_%s.tsv' % system, 'w')\n",
    "    xs=[]\n",
    "    ys=[]\n",
    "    print(system.upper())\n",
    "    for rentropy, forms_set in sorted(forms_per_rentropy.items()):\n",
    "        f1=analysis_utils.compute_prf_on_selection(system_articles[system], forms_set)\n",
    "        fc=0\n",
    "        for frm in sorted(list(forms_set)):\n",
    "            interps=interpretations[frm]\n",
    "            if fc==0:\n",
    "                w.write('%f\\t%f\\t%s\\t%s\\n' % (rentropy, f1, frm, ','.join(interps)))\n",
    "            else:\n",
    "                w.write(' \\t \\t%s\\t%s\\n' % (frm, ','.join(interps)))\n",
    "            fc+=1\n",
    "        w.write('\\n')\n",
    "        xs.append(rentropy)\n",
    "        ys.append(f1*100.0)\n",
    "    plt.plot(xs, ys, \"%s-\" % c[cnt], color=clr[cnt], label=system.upper())\n",
    "    cnt+=1\n",
    "    w.close()\n",
    "    \n",
    "for baseline, articles in baseline_articles.items():    \n",
    "    xs=[]\n",
    "    ys=[]\n",
    "    print(baseline.upper())\n",
    "    for rentropy, forms_set in sorted(forms_per_rentropy.items()):\n",
    "        f1=analysis_utils.compute_prf_on_selection(articles, forms_set)\n",
    "        xs.append(rentropy)\n",
    "        ys.append(f1*100.0)\n",
    "    plt.plot(xs, ys, \"%s-\" % c[cnt], color=clr[cnt], label=baseline.upper())\n",
    "    cnt+=1\n",
    "    \n",
    "    \n",
    "plt.legend()\n",
    "plt.xlabel('ENTROPY')\n",
    "plt.ylabel('F1-SCORE')\n",
    "plt.xticks(xs)\n",
    " \n",
    "plt.show()\n",
    "\n",
    "save=True\n",
    "if save:\n",
    "    fig.savefig('img/entropy_f1.png')\n"
   ]
  },
  {
   "cell_type": "markdown",
   "metadata": {},
   "source": [
    "**6.2. Compute correlation between form entropy and P/R/F1**"
   ]
  },
  {
   "cell_type": "code",
   "execution_count": 33,
   "metadata": {},
   "outputs": [
    {
     "name": "stdout",
     "output_type": "stream",
     "text": [
      "AGDISTIS\n",
      "The Spearman correlation between X and Y is: -0.1513011387144569 . Significance:  0.0006228346926715824\n",
      "SPOTLIGHT\n",
      "The Spearman correlation between X and Y is: -0.23103931306007783 . Significance:  1.394701072498865e-07\n",
      "WAT\n",
      "The Spearman correlation between X and Y is: -0.2614479059771961 . Significance:  2.1961874070858405e-09\n",
      "AGDISTIS\n",
      "The Spearman correlation between X and Y is: -0.1513011387144569 . Significance:  0.0006228346926715824\n",
      "SPOTLIGHT\n",
      "The Spearman correlation between X and Y is: -0.23040660272681132 . Significance:  1.511749410116273e-07\n",
      "WAT\n",
      "The Spearman correlation between X and Y is: -0.2889102155066703 . Significance:  3.185488442023032e-11\n",
      "AGDISTIS\n",
      "The Spearman correlation between X and Y is: -0.1513011387144569 . Significance:  0.0006228346926715824\n",
      "SPOTLIGHT\n",
      "The Spearman correlation between X and Y is: -0.23008360258617258 . Significance:  1.5750992154105367e-07\n",
      "WAT\n",
      "The Spearman correlation between X and Y is: -0.30580247227378793 . Significance:  1.855675912665002e-12\n"
     ]
    }
   ],
   "source": [
    "for metric in [prec_by_form, recall_by_form, f1_by_form]:\n",
    "    for system in systems:\n",
    "        print(system.upper())\n",
    "    \n",
    "        dist1, dist2 = analysis_utils.prepare_lists(metric[system], form_entropies)\n",
    "        correlation, significance = spearmanr(dist1, dist2)\n",
    "        print('The Spearman correlation between X and Y is:', correlation, '. Significance: ', significance)"
   ]
  },
  {
   "cell_type": "markdown",
   "metadata": {},
   "source": [
    "**The average correlation across systems between F1-score and entropy is -0.20518622158**"
   ]
  },
  {
   "cell_type": "markdown",
   "metadata": {},
   "source": [
    "### 7) Correlation between instance ranks (of a form) and performance\n",
    "\n",
    "<span style=\"background-color:lightgreen\">Section 5.4. of the paper</span>\n"
   ]
  },
  {
   "cell_type": "markdown",
   "metadata": {},
   "source": [
    "**7.1. Collect interpretations for a form**\n"
   ]
  },
  {
   "cell_type": "code",
   "execution_count": 34,
   "metadata": {
    "collapsed": true
   },
   "outputs": [],
   "source": [
    "interpretations=defaultdict(set)\n",
    "for article in system_articles['spotlight']:\n",
    "    for mention in article.entity_mentions:\n",
    "        form=mention.mention\n",
    "        meaning=mention.gold_link\n",
    "        if not skip_nils or meaning!='--NME--':\n",
    "            interpretations[form].add(meaning)"
   ]
  },
  {
   "cell_type": "code",
   "execution_count": 35,
   "metadata": {},
   "outputs": [
    {
     "data": {
      "text/plain": [
       "{'Marseille', 'Olympique_de_Marseille'}"
      ]
     },
     "execution_count": 35,
     "metadata": {},
     "output_type": "execute_result"
    }
   ],
   "source": [
    "interpretations['Marseille']"
   ]
  },
  {
   "cell_type": "markdown",
   "metadata": {},
   "source": [
    "**7.2. Aggregate per rank**"
   ]
  },
  {
   "cell_type": "code",
   "execution_count": 55,
   "metadata": {
    "collapsed": true
   },
   "outputs": [],
   "source": [
    "def rank_analysis(systems, system_articles, ambiguous_forms, uri_pr=None, ambiguous_only=True, factor='freq'):\n",
    "\n",
    "    print(factor)\n",
    "    fig, axs = plt.subplots(1,3, sharey=True, figsize=(14,3))\n",
    "    p={}\n",
    "    r={}\n",
    "    f1={}\n",
    "\n",
    "    for system in systems:\n",
    "        w=open('debug/%srank_%s.tsv' % (factor, system), 'w')\n",
    "        rank_tuples=analysis_utils.prepare_ranks(system_articles[system], \n",
    "                                                  ambiguous_forms,\n",
    "                                                  uri_pr=uri_pr,\n",
    "                                                  ambiguous_only=ambiguous_only, \n",
    "                                                  factor=factor)\n",
    "        for rank in sorted(rank_tuples.keys()):\n",
    "            w.write('%d\\n' % rank)\n",
    "            for t in rank_tuples[rank]:\n",
    "                w.write(' \\t%s\\t%s\\n' % (t[0], t[1]))\n",
    "            w.write('\\n')\n",
    "        w.close()\n",
    "        #print(rank_tuples)\n",
    "        p[system], r[system], f1[system] = analysis_utils.evaluate_ranks(system_articles[system], \n",
    "                                                          rank_tuples)\n",
    "        \n",
    "        print()\n",
    "\n",
    "    plot_utils.plot_prf(p, systems, axs[0], title=\"PRECISION\")\n",
    "    plot_utils.plot_prf(r, systems, axs[1], title=\"RECALL\")\n",
    "    plot_utils.plot_prf(f1, systems, axs[2], title=\"F1-SCORE\")\n",
    "\n",
    "    plt.show()\n",
    "\n",
    "    fig.savefig('img/accuracy_per_%s_rank.png' % factor, bbox_inches='tight')"
   ]
  },
  {
   "cell_type": "code",
   "execution_count": null,
   "metadata": {
    "collapsed": true
   },
   "outputs": [],
   "source": []
  },
  {
   "cell_type": "code",
   "execution_count": 56,
   "metadata": {},
   "outputs": [
    {
     "name": "stdout",
     "output_type": "stream",
     "text": [
      "freq\n",
      "tp defaultdict(<class 'int'>, {1: 4241, 2: 394, 3: 38, 6: 1, 5: 2})\n",
      "fp defaultdict(<class 'int'>, {1: 693, 2: 1114, 3: 405, 6: 165, 5: 68, 4: 1})\n",
      "fn defaultdict(<class 'int'>, {4: 78, 1: 3851, 2: 1103, 3: 248, 5: 19, 11: 1, 12: 1, 6: 8, 8: 2, 7: 3, 9: 2, 10: 2})\n",
      "precision {1: 0.8595460072963113, 2: 0.2612732095490716, 3: 0.08577878103837472, 4: 0.0, 5: 0.02857142857142857, 6: 0.006024096385542169, 7: 0.0, 8: 0.0, 9: 0.0, 10: 0.0, 11: 0.0, 12: 0.0}\n",
      "\n",
      "recall {1: 0.5240978744438952, 2: 0.2631930527722111, 3: 0.13286713286713286, 4: 0.0, 5: 0.09523809523809523, 6: 0.1111111111111111, 7: 0.0, 8: 0.0, 9: 0.0, 10: 0.0, 11: 0.0, 12: 0.0}\n",
      "\n",
      "f1 {1: 0.6511592200214955, 2: 0.2622296173044925, 3: 0.10425240054869685, 4: 0.0, 5: 0.04395604395604396, 6: 0.011428571428571429, 7: 0.0, 8: 0.0, 9: 0.0, 10: 0.0, 11: 0.0, 12: 0.0}\n",
      "\n",
      "\n",
      "tp defaultdict(<class 'int'>, {2: 787, 1: 5525, 3: 139, 8: 2, 4: 34, 5: 8, 6: 1})\n",
      "fp defaultdict(<class 'int'>, {2: 763, 4: 218, 1: 410, 3: 336, 5: 35, 8: 3})\n",
      "fn defaultdict(<class 'int'>, {1: 2567, 2: 710, 4: 44, 3: 147, 11: 1, 9: 2, 5: 13, 6: 8, 7: 3, 12: 1, 10: 2})\n",
      "precision {1: 0.9309182813816343, 2: 0.5077419354838709, 3: 0.2926315789473684, 4: 0.1349206349206349, 5: 0.18604651162790697, 6: 1.0, 7: 0.0, 8: 0.4, 9: 0.0, 10: 0.0, 11: 0.0, 12: 0.0}\n",
      "\n",
      "recall {1: 0.6827731092436975, 2: 0.5257181028724115, 3: 0.486013986013986, 4: 0.4358974358974359, 5: 0.38095238095238093, 6: 0.1111111111111111, 7: 0.0, 8: 1.0, 9: 0.0, 10: 0.0, 11: 0.0, 12: 0.0}\n",
      "\n",
      "f1 {1: 0.7877664504170528, 2: 0.5165736790285527, 3: 0.3653088042049934, 4: 0.20606060606060606, 5: 0.25, 6: 0.19999999999999998, 7: 0.0, 8: 0.5714285714285715, 9: 0.0, 10: 0.0, 11: 0.0, 12: 0.0}\n",
      "\n",
      "\n",
      "tp defaultdict(<class 'int'>, {1: 5452, 2: 530, 3: 65, 4: 19, 5: 4, 9: 1, 6: 1})\n",
      "fp defaultdict(<class 'int'>, {1: 483, 3: 137, 2: 481, 4: 30, 5: 9, 9: 1})\n",
      "fn defaultdict(<class 'int'>, {1: 2640, 2: 967, 3: 221, 8: 2, 4: 59, 5: 17, 6: 8, 9: 1, 7: 3, 11: 1, 12: 1, 10: 2})\n",
      "precision {1: 0.9186183656276327, 2: 0.5242334322453017, 3: 0.3217821782178218, 4: 0.3877551020408163, 5: 0.3076923076923077, 6: 1.0, 7: 0.0, 8: 0.0, 9: 0.5, 10: 0.0, 11: 0.0, 12: 0.0}\n",
      "\n",
      "recall {1: 0.6737518536826496, 2: 0.35404141616566465, 3: 0.22727272727272727, 4: 0.24358974358974358, 5: 0.19047619047619047, 6: 0.1111111111111111, 7: 0.0, 8: 0.0, 9: 0.5, 10: 0.0, 11: 0.0, 12: 0.0}\n",
      "\n",
      "f1 {1: 0.7773579525201397, 2: 0.4226475279106858, 3: 0.26639344262295084, 4: 0.2992125984251968, 5: 0.23529411764705882, 6: 0.19999999999999998, 7: 0.0, 8: 0.0, 9: 0.5, 10: 0.0, 11: 0.0, 12: 0.0}\n",
      "\n",
      "\n",
      "[ 1  2  3  4  5  6  7  8  9 10 11 12]\n",
      "[ 1  2  3  4  5  6  7  8  9 10 11 12]\n",
      "[ 1  2  3  4  5  6  7  8  9 10 11 12]\n"
     ]
    },
    {
     "data": {
      "image/png": "[encoded data removed]",
      "text/plain": [
       "<matplotlib.figure.Figure at 0x1239f0860>"
      ]
     },
     "metadata": {},
     "output_type": "display_data"
    }
   ],
   "source": [
    "rank_analysis(systems, system_articles, ambiguous_forms, ambiguous_only=True, factor='freq')"
   ]
  },
  {
   "cell_type": "markdown",
   "metadata": {},
   "source": [
    "#### 7.3 PR ranks\n"
   ]
  },
  {
   "cell_type": "code",
   "execution_count": 57,
   "metadata": {},
   "outputs": [
    {
     "name": "stdout",
     "output_type": "stream",
     "text": [
      "pr\n",
      "tp defaultdict(<class 'int'>, {1: 4456, 2: 216, 3: 4})\n",
      "fp defaultdict(<class 'int'>, {1: 1934, 2: 346, 3: 166})\n",
      "fn defaultdict(<class 'int'>, {4: 119, 1: 2345, 2: 2161, 3: 550, 11: 5, 8: 1, 5: 103, 12: 1, 6: 17, 10: 5, 9: 3, 7: 2})\n",
      "precision {1: 0.697339593114241, 2: 0.38434163701067614, 3: 0.023529411764705882, 4: 0.0, 5: 0.0, 6: 0.0, 7: 0.0, 8: 0.0, 9: 0.0, 10: 0.0, 11: 0.0, 12: 0.0}\n",
      "\n",
      "recall {1: 0.6551977650345537, 2: 0.09087084560370215, 3: 0.007220216606498195, 4: 0.0, 5: 0.0, 6: 0.0, 7: 0.0, 8: 0.0, 9: 0.0, 10: 0.0, 11: 0.0, 12: 0.0}\n",
      "\n",
      "f1 {1: 0.6756121598059283, 2: 0.1469887716910514, 3: 0.011049723756906077, 4: 0.0, 5: 0.0, 6: 0.0, 7: 0.0, 8: 0.0, 9: 0.0, 10: 0.0, 11: 0.0, 12: 0.0}\n",
      "\n",
      "\n",
      "tp defaultdict(<class 'int'>, {2: 1278, 3: 160, 1: 4902, 4: 49, 5: 87, 7: 2, 11: 5, 6: 13})\n",
      "fp defaultdict(<class 'int'>, {3: 219, 4: 209, 2: 621, 1: 536, 5: 97, 6: 80, 7: 3})\n",
      "fn defaultdict(<class 'int'>, {1: 1898, 2: 1102, 4: 70, 3: 392, 8: 1, 5: 16, 10: 5, 9: 3, 12: 1, 6: 4})\n",
      "precision {1: 0.9014343508642884, 2: 0.6729857819905213, 3: 0.42216358839050133, 4: 0.18992248062015504, 5: 0.47282608695652173, 6: 0.13978494623655913, 7: 0.4, 8: 0.0, 9: 0.0, 10: 0.0, 11: 1.0, 12: 0.0}\n",
      "\n",
      "recall {1: 0.7208823529411764, 2: 0.5369747899159664, 3: 0.2898550724637681, 4: 0.4117647058823529, 5: 0.8446601941747572, 6: 0.7647058823529411, 7: 1.0, 8: 0.0, 9: 0.0, 10: 0.0, 11: 1.0, 12: 0.0}\n",
      "\n",
      "f1 {1: 0.8011112926948849, 2: 0.5973358261275998, 3: 0.34371643394199786, 4: 0.259946949602122, 5: 0.6062717770034843, 6: 0.23636363636363633, 7: 0.5714285714285715, 8: 0.0, 9: 0.0, 10: 0.0, 11: 1.0, 12: 0.0}\n",
      "\n",
      "\n",
      "tp defaultdict(<class 'int'>, {1: 5201, 2: 702, 3: 68, 4: 37, 5: 48, 10: 2, 6: 9, 7: 1})\n",
      "fp defaultdict(<class 'int'>, {2: 234, 1: 813, 3: 46, 6: 6, 4: 22, 5: 19, 7: 1})\n",
      "fn defaultdict(<class 'int'>, {1: 1597, 2: 1680, 5: 55, 3: 484, 4: 82, 10: 3, 6: 8, 11: 5, 7: 1, 9: 3, 12: 1, 8: 1})\n",
      "precision {1: 0.8648154306617891, 2: 0.75, 3: 0.5964912280701754, 4: 0.6271186440677966, 5: 0.7164179104477612, 6: 0.6, 7: 0.5, 8: 0.0, 9: 0.0, 10: 1.0, 11: 0.0, 12: 0.0}\n",
      "\n",
      "recall {1: 0.7650779641070903, 2: 0.2947103274559194, 3: 0.12318840579710146, 4: 0.31092436974789917, 5: 0.46601941747572817, 6: 0.5294117647058824, 7: 0.5, 8: 0.0, 9: 0.0, 10: 0.4, 11: 0.0, 12: 0.0}\n",
      "\n",
      "f1 {1: 0.8118950983453013, 2: 0.42314647377938513, 3: 0.2042042042042042, 4: 0.4157303370786517, 5: 0.5647058823529411, 6: 0.5625, 7: 0.5, 8: 0.0, 9: 0.0, 10: 0.5714285714285715, 11: 0.0, 12: 0.0}\n",
      "\n",
      "\n",
      "[ 1  2  3  4  5  6  7  8  9 10 11 12]\n",
      "[ 1  2  3  4  5  6  7  8  9 10 11 12]\n",
      "[ 1  2  3  4  5  6  7  8  9 10 11 12]\n"
     ]
    },
    {
     "data": {
      "image/png": "[encoded data removed]",
      "text/plain": [
       "<matplotlib.figure.Figure at 0x11c7dadd8>"
      ]
     },
     "metadata": {},
     "output_type": "display_data"
    }
   ],
   "source": [
    "rank_analysis(systems, system_articles, ambiguous_forms, uri_pr=uri_pr, ambiguous_only=True, factor='pr')"
   ]
  },
  {
   "cell_type": "markdown",
   "metadata": {},
   "source": [
    "### 8) Ambiguity and frequency together against accuracy\n",
    "\n",
    "<span style=\"background-color:lightgreen\">Section 5.3. of the paper</span>"
   ]
  },
  {
   "cell_type": "code",
   "execution_count": 39,
   "metadata": {
    "collapsed": true
   },
   "outputs": [],
   "source": [
    "def heatmap_me(AMB, FREQ, ACC, system, a, ylbl='', cbar=False, yticks=[]):\n",
    "    data = pd.DataFrame({'AMBIGUITY': AMB, 'FREQ': FREQ, 'ACC': ACC})\n",
    "    data_pivoted = data.pivot(\"FREQ\", \"AMBIGUITY\", \"ACC\")\n",
    "#    fig=plt.figure(figsize = (12,7))\n",
    "    ax = sns.heatmap(data_pivoted, annot=True, linewidths=.5, ax=a,cbar=cbar,fmt='g', yticklabels=yticks)\n",
    "    ax.set_ylabel(ylbl)\n",
    "    ax.set_title(system.upper())\n",
    "    for _, spine in ax.spines.items():\n",
    "        spine.set_edgecolor('darkblue')\n",
    "        spine.set_visible(True)\n",
    "#    plt.show()\n",
    "#    fig.savefig('img/%s_amb_frequency_acc.png' % system)"
   ]
  },
  {
   "cell_type": "code",
   "execution_count": 40,
   "metadata": {
    "collapsed": true
   },
   "outputs": [],
   "source": [
    "def split_forms_per_amb_freq_pair(ambiguity, forms_by_log_count):\n",
    "    af_pairs=defaultdict(set)\n",
    "    for log_freq, forms in forms_by_log_count.items():\n",
    "        for form in forms:\n",
    "            amb=ambiguity[form]\n",
    "            rounded_freq=round(log_freq)\n",
    "            af_pairs[(amb, rounded_freq)].add(form)\n",
    "    return af_pairs"
   ]
  },
  {
   "cell_type": "code",
   "execution_count": 45,
   "metadata": {
    "collapsed": true
   },
   "outputs": [],
   "source": [
    "def evaluate_af_pairs(af_pairs, articles, skip_nils=True):\n",
    "    \n",
    "    tp=defaultdict(int)\n",
    "    fn=defaultdict(int)\n",
    "    fp=defaultdict(int)\n",
    "    \n",
    "    counts=defaultdict(set)\n",
    "    for article in articles:\n",
    "        for mention in article.entity_mentions:\n",
    "            gold = mention.gold_link\n",
    "            syslink = mention.sys_link\n",
    "            form = mention.mention\n",
    "            if skip_nils and gold=='--NME--':\n",
    "                continue\n",
    "            this_pair=None\n",
    "            for pair, forms in af_pairs.items():\n",
    "                if form in forms:\n",
    "                    this_pair=pair\n",
    "            if not this_pair:\n",
    "                continue\n",
    "            else:\n",
    "                counts[this_pair].add(form)\n",
    "            if gold==syslink:\n",
    "                tp[this_pair]+=1\n",
    "            else:\n",
    "                if syslink!='--NME--':\n",
    "                    fp[this_pair]+=1\n",
    "                fn[this_pair]+=1\n",
    "    \n",
    "    agg_counts={}\n",
    "    for pair, forms in counts.items():\n",
    "        agg_counts[pair]=len(forms)\n",
    "    \n",
    "    prec=defaultdict(float)\n",
    "    recall=defaultdict(float)\n",
    "    f1=defaultdict(int)\n",
    "    \n",
    "    for pair in af_pairs.keys():\n",
    "        if tp[pair]+fp[pair]+fn[pair]==0:\n",
    "            continue\n",
    "        if tp[pair]+fp[pair]>0:\n",
    "            prec[pair]=tp[pair]/(tp[pair]+fp[pair])\n",
    "        else:\n",
    "            prec[pair]=0\n",
    "        if tp[pair]+fn[pair]>0:\n",
    "            recall[pair]=tp[pair]/(tp[pair]+fn[pair])\n",
    "        else:\n",
    "            recall[pair]=0\n",
    "        if prec[pair]+recall[pair]>0:\n",
    "            f1[pair]=int(100.0*2*prec[pair]*recall[pair]/(prec[pair]+recall[pair]))\n",
    "        else:\n",
    "            f1[pair]=0\n",
    "    \n",
    "    return f1, agg_counts"
   ]
  },
  {
   "cell_type": "code",
   "execution_count": 46,
   "metadata": {
    "collapsed": true
   },
   "outputs": [],
   "source": [
    "forms_by_count = analysis_utils.compute_counts_by_form(system_articles['wat'])\n",
    "forms_by_log_count=analysis_utils.counts_to_log_counts(forms_by_count)\n",
    "freq_intervals = analysis_utils.get_freq_intervals(forms_by_count)\n",
    "\n",
    "total_per_form = analysis_utils.get_freq_totals(system_articles[systems[0]], ambiguous_forms, ambiguous_only=False)\n",
    "af_pairs=split_forms_per_amb_freq_pair(ambiguity, forms_by_log_count)"
   ]
  },
  {
   "cell_type": "code",
   "execution_count": 47,
   "metadata": {
    "collapsed": true
   },
   "outputs": [],
   "source": [
    "def plot_heatmap(data, cnt, freq_intervals, axs=None, system=''):\n",
    "    AMB=[]\n",
    "    FREQ=[]\n",
    "    ACC=[]\n",
    "    yticks=[]\n",
    "    for this_pair, val in data.items():\n",
    "\n",
    "        ACC.append(val)\n",
    "        AMB.append(this_pair[0])\n",
    "        mn=freq_intervals[this_pair[1]][0]\n",
    "        mx=freq_intervals[this_pair[1]][1]\n",
    "        FREQ.append((mn,mx))\n",
    "    if cnt>0:\n",
    "        ylbl=''\n",
    "    else:\n",
    "        ylbl='FREQUENCY'\n",
    "    \n",
    "    for cpl in sorted(list(set(FREQ))):\n",
    "        yticks.append('[ %d, %d ]' % (cpl[0], cpl[1]))\n",
    "    \n",
    "    heatmap_me(AMB, FREQ, ACC, system, axs[cnt], cbar=(cnt==2), ylbl=ylbl, yticks=yticks)\n"
   ]
  },
  {
   "cell_type": "code",
   "execution_count": 48,
   "metadata": {},
   "outputs": [
    {
     "data": {
      "image/png": "[encoded data removed]",
      "text/plain": [
       "<matplotlib.figure.Figure at 0x127aa49e8>"
      ]
     },
     "metadata": {},
     "output_type": "display_data"
    }
   ],
   "source": [
    "plt.rcParams.update({'font.size': 11})\n",
    "\n",
    "fig, axs = plt.subplots(1,4, sharey=True, figsize=(16,4), gridspec_kw={'width_ratios':[1,1,1.2,1]})\n",
    "cnt=0\n",
    "\n",
    "for system in systems:\n",
    "    \n",
    "    f1s, counts = evaluate_af_pairs(af_pairs, system_articles[system])\n",
    "    \n",
    "    plot_heatmap(f1s, cnt, freq_intervals, axs, system)\n",
    "\n",
    "    cnt+=1\n",
    "    \n",
    "plot_heatmap(counts, cnt, freq_intervals, axs, 'unique forms per bucket')\n",
    "    \n",
    "plt.show()\n",
    "fig.savefig('img/amb_frequency_acc.png')"
   ]
  },
  {
   "cell_type": "code",
   "execution_count": null,
   "metadata": {
    "collapsed": true
   },
   "outputs": [],
   "source": []
  },
  {
   "cell_type": "code",
   "execution_count": null,
   "metadata": {
    "collapsed": true
   },
   "outputs": [],
   "source": []
  }
 ],
 "metadata": {
  "anaconda-cloud": {},
  "kernelspec": {
   "display_name": "Python 3",
   "language": "python",
   "name": "python3"
  },
  "language_info": {
   "codemirror_mode": {
    "name": "ipython",
    "version": 3
   },
   "file_extension": ".py",
   "mimetype": "text/x-python",
   "name": "python",
   "nbconvert_exporter": "python",
   "pygments_lexer": "ipython3",
   "version": "3.6.1"
  }
 },
 "nbformat": 4,
 "nbformat_minor": 1
}
