{
 "cells": [
  {
   "cell_type": "markdown",
   "metadata": {},
   "source": [
    "# System analysis (Micro)"
   ]
  },
  {
   "cell_type": "code",
   "execution_count": 1,
   "metadata": {
    "collapsed": true
   },
   "outputs": [],
   "source": [
    "import pickle\n",
    "import analysis_utils\n",
    "import plot_utils\n",
    "from collections import defaultdict, OrderedDict\n",
    "import math\n",
    "from scipy.stats import pearsonr, spearmanr\n",
    "import numpy as np\n",
    "from scipy.stats import kendalltau\n",
    "import pandas as pd\n",
    "from scipy.stats import entropy\n",
    "from copy import deepcopy\n",
    "import random"
   ]
  },
  {
   "cell_type": "code",
   "execution_count": 2,
   "metadata": {
    "collapsed": true
   },
   "outputs": [],
   "source": [
    "import matplotlib.pyplot as plt\n",
    "%matplotlib inline\n",
    "import seaborn as sns\n",
    "\n",
    "\n",
    "sns.set_style(\"whitegrid\")"
   ]
  },
  {
   "cell_type": "code",
   "execution_count": 3,
   "metadata": {
    "collapsed": true
   },
   "outputs": [],
   "source": [
    "debug=False"
   ]
  },
  {
   "cell_type": "markdown",
   "metadata": {},
   "source": [
    "### 1) Load data from BIN files"
   ]
  },
  {
   "cell_type": "code",
   "execution_count": 4,
   "metadata": {
    "collapsed": true
   },
   "outputs": [],
   "source": [
    "#wes_title='wes2015'\n",
    "n3_title='n3'\n",
    "aida_title='aida'\n",
    "#rss_title='rss500'\n",
    "#reuters_title='reuters128'\n",
    "titles=[aida_title, n3_title]# rss_title, reuters_title]#, wes_title]\n",
    "systems=['agdistis', 'spotlight', 'wat']"
   ]
  },
  {
   "cell_type": "code",
   "execution_count": 5,
   "metadata": {
    "collapsed": true
   },
   "outputs": [],
   "source": [
    "### Load data from disk\n",
    "system_data_articles={}\n",
    "for system in systems:\n",
    "    system_data_articles[system]={}\n",
    "    for data_title in titles:\n",
    "        with open('bin/%s_%s.bin' % (data_title, system), 'rb') as outfile:\n",
    "            system_data_articles[system][data_title]=pickle.load(outfile)"
   ]
  },
  {
   "cell_type": "markdown",
   "metadata": {},
   "source": [
    "#### [DEBUG-only] Store agdistis output to a file"
   ]
  },
  {
   "cell_type": "code",
   "execution_count": 6,
   "metadata": {
    "collapsed": true
   },
   "outputs": [],
   "source": [
    "if debug:\n",
    "    with open('debug/agdmag_aida_debug.tsv', 'w') as w:\n",
    "        w.write('collection\\tarticle_ID\\tbegin_index\\tend_index\\tmention\\tgold_link\\tsystem_link\\n')\n",
    "        for article in aida_agd_articles:\n",
    "            for mention in article.entity_mentions:\n",
    "                if mention.sys_link.startswith('http://aksw.org/'):\n",
    "                    mention.sys_link = '--NME--'\n",
    "\n",
    "                a_row=[article.collection, str(article.identifier), \n",
    "                       str(mention.begin_index), str(mention.end_index), \n",
    "                       mention.mention, mention.gold_link, \n",
    "                       mention.sys_link]\n",
    "                w.write('\\t'.join(a_row) + '\\n')"
   ]
  },
  {
   "cell_type": "markdown",
   "metadata": {},
   "source": [
    "**1.1. Pick dataset**"
   ]
  },
  {
   "cell_type": "code",
   "execution_count": 7,
   "metadata": {
    "collapsed": true
   },
   "outputs": [],
   "source": [
    "system_articles = {}\n",
    "\n",
    "for system in systems:\n",
    "    system_articles[system]=set()\n",
    "    for data_title in titles: \n",
    "        system_articles[system] |= system_data_articles[system][data_title]"
   ]
  },
  {
   "cell_type": "markdown",
   "metadata": {},
   "source": [
    "**1.2. Normalize AGDISTIS NILs given as custom AKSW URIs **"
   ]
  },
  {
   "cell_type": "code",
   "execution_count": 8,
   "metadata": {
    "collapsed": true
   },
   "outputs": [],
   "source": [
    "for article in system_articles['agdistis']:\n",
    "    for mention in article.entity_mentions:\n",
    "        if mention.sys_link.startswith('http://aksw.org/'):\n",
    "            mention.sys_link = '--NME--'\n"
   ]
  },
  {
   "cell_type": "markdown",
   "metadata": {},
   "source": [
    "**1.3.Normalize forms to lower-case (disabled for now)**"
   ]
  },
  {
   "cell_type": "code",
   "execution_count": 9,
   "metadata": {
    "collapsed": true
   },
   "outputs": [],
   "source": [
    "if debug:\n",
    "    for system in systems:\n",
    "        for article in system_articles[system]:\n",
    "            for mention in article.entity_mentions:\n",
    "                mention.mention=mention.mention.lower()\n",
    "                print(mention.mention)"
   ]
  },
  {
   "cell_type": "markdown",
   "metadata": {},
   "source": [
    "### 2) Performance\n",
    "\n",
    "<span style=\"background-color:lightgreen\">Section 6.1. of the paper</span>\n",
    "\n",
    "#### 2.1. Overall"
   ]
  },
  {
   "cell_type": "code",
   "execution_count": 10,
   "metadata": {
    "collapsed": true
   },
   "outputs": [],
   "source": [
    "skip_nils=True\n",
    "skip_nonnils=False"
   ]
  },
  {
   "cell_type": "code",
   "execution_count": 11,
   "metadata": {},
   "outputs": [
    {
     "name": "stdout",
     "output_type": "stream",
     "text": [
      "AGDISTIS\n",
      "17064 8991 11927\n",
      "0.6549222797927461 0.5885964609706461 0.6199905533553755\n",
      "0.6199905533553755\n",
      "\n",
      "SPOTLIGHT\n",
      "20252 6396 8739\n",
      "0.7599819873911738 0.6985616225725225 0.7279785761785798\n",
      "0.7279785761785798\n",
      "\n",
      "WAT\n",
      "19027 2420 9964\n",
      "0.8871637058796102 0.6563071297989032 0.7544708354811849\n",
      "0.7544708354811849\n",
      "\n"
     ]
    }
   ],
   "source": [
    "all_sys_accs = defaultdict(dict)\n",
    "for system in systems:\n",
    "    print(system.upper())\n",
    "    sys_acc=analysis_utils.overall_performance_prf(system_articles[system], \n",
    "                                               skip_nils, \n",
    "                                               skip_nonnils)\n",
    "    all_sys_accs[system]['overall']=sys_acc\n",
    "#    scores.append(['overall', system, sys_acc])\n",
    "    print(sys_acc)\n",
    "    print()\n"
   ]
  },
  {
   "cell_type": "markdown",
   "metadata": {},
   "source": [
    "#### 2.2. Only forms that are interpretted as NILs and not-NILs"
   ]
  },
  {
   "cell_type": "code",
   "execution_count": 12,
   "metadata": {},
   "outputs": [],
   "source": [
    "if debug:\n",
    "    for system in systems:\n",
    "        interpretations, references = analysis_utils.get_interpretations_and_references(system_articles[system], skip_nils=False)\n",
    "        ambiguity={}\n",
    "        for form,meanings in interpretations.items():\n",
    "            ambiguity[form]=len(meanings)\n",
    "\n",
    "        nil_nonnil_forms=set()\n",
    "        for form, amb in ambiguity.items():\n",
    "            if amb>1:\n",
    "                if '--NME--' in interpretations[form]:\n",
    "                    nil_nonnil_forms.add(form)\n",
    "\n",
    "        nn_f_acc=analysis_utils.compute_prf_on_selection(system_articles[system], nil_nonnil_forms)\n",
    "        print(system, nn_f_acc)\n",
    "        all_sys_accs[system]['forms with nils & non-nils']=nn_f_acc\n",
    "    #    scores.append(['forms with nils & non-nils', system, nn_f_acc])"
   ]
  },
  {
   "cell_type": "markdown",
   "metadata": {},
   "source": [
    "#### 2.3. Only ambiguous forms"
   ]
  },
  {
   "cell_type": "code",
   "execution_count": 13,
   "metadata": {},
   "outputs": [
    {
     "name": "stdout",
     "output_type": "stream",
     "text": [
      "4369 4830 5662\n",
      "0.4749429285791934 0.435549795633536 0.4543941757670307\n",
      "agdistis 0.4543941757670307\n",
      "6237 3435 3762\n",
      "0.6448511166253101 0.6237623762376238 0.6341314625590972\n",
      "spotlight 0.6341314625590972\n",
      "6108 1665 3922\n",
      "0.785796989579313 0.6089730807577268 0.6861764871089142\n",
      "wat 0.6861764871089142\n"
     ]
    }
   ],
   "source": [
    "for system in systems:\n",
    "    interpretations, references = analysis_utils.get_interpretations_and_references(system_articles[system], skip_nils=True)\n",
    "    ambiguity={}\n",
    "    for form,meanings in interpretations.items():\n",
    "        ambiguity[form]=len(meanings)\n",
    "\n",
    "    ambiguous_forms=set()\n",
    "    for form, amb in ambiguity.items():\n",
    "        if amb>1:\n",
    "            ambiguous_forms.add(form)\n",
    "\n",
    "    amb_f_acc=analysis_utils.compute_prf_on_selection(system_articles[system], ambiguous_forms)\n",
    "    print(system, amb_f_acc)\n",
    "    all_sys_accs[system]['ambiguous forms']=amb_f_acc\n",
    "#    scores.append(['ambiguous forms', system, amb_f_acc])"
   ]
  },
  {
   "cell_type": "markdown",
   "metadata": {},
   "source": [
    "** 2.4. Prepare and plot **"
   ]
  },
  {
   "cell_type": "code",
   "execution_count": 14,
   "metadata": {
    "collapsed": true
   },
   "outputs": [],
   "source": [
    "scores=analysis_utils.prepare_scores_to_plot(all_sys_accs)"
   ]
  },
  {
   "cell_type": "code",
   "execution_count": 15,
   "metadata": {},
   "outputs": [
    {
     "name": "stdout",
     "output_type": "stream",
     "text": [
      "['overall', 'ambiguous forms']\n",
      "['AGDISTIS', 'SPOTLIGHT', 'WAT']\n",
      "width: 0.35\n",
      "evaluation: overall\n",
      "0.6199905533553755\n",
      "0.7279785761785798\n",
      "0.7544708354811849\n",
      "evaluation: ambiguous forms\n",
      "0.4543941757670307\n",
      "0.6341314625590972\n",
      "0.6861764871089142\n"
     ]
    },
    {
     "data": {
      "text/plain": [
       "<matplotlib.figure.Figure at 0x11f96f860>"
      ]
     },
     "metadata": {},
     "output_type": "display_data"
    },
    {
     "data": {
      "image/png": "[encoded data removed]",
      "text/plain": [
       "<matplotlib.figure.Figure at 0x11f96bdd8>"
      ]
     },
     "metadata": {},
     "output_type": "display_data"
    }
   ],
   "source": [
    "plot_utils.plot_scores(scores, title='Scores of systems')\n",
    "#plot_scores(scores, title='Scores of systems')"
   ]
  },
  {
   "cell_type": "markdown",
   "metadata": {},
   "source": [
    "### 3) Baselines"
   ]
  },
  {
   "cell_type": "code",
   "execution_count": null,
   "metadata": {
    "collapsed": true
   },
   "outputs": [],
   "source": [
    "baseline_articles = {}"
   ]
  },
  {
   "cell_type": "code",
   "execution_count": null,
   "metadata": {
    "collapsed": true
   },
   "outputs": [],
   "source": [
    "freq_system='x freq baseline'\n",
    "random_system='x random baseline'\n",
    "\n",
    "totals=analysis_utils.get_freq_totals(system_articles[systems[0]],\n",
    "                                      set(),\n",
    "                                      ambiguous_only=False\n",
    "                                     )\n",
    "freq_baseline_articles=deepcopy(system_articles['agdistis'])\n",
    "pr_baseline_articles=deepcopy(system_articles['agdistis'])\n",
    "random_baseline_articles=deepcopy(system_articles['agdistis'])\n"
   ]
  },
  {
   "cell_type": "code",
   "execution_count": null,
   "metadata": {
    "collapsed": true
   },
   "outputs": [],
   "source": [
    "\n",
    "\n",
    "form_to_mostfreq=defaultdict(lambda: '--NME--')\n",
    "form_to_highest_pr = defaultdict(lambda: '--NME--')\n",
    "for form, dist in totals.items():\n",
    "    key_max = max(dist.keys(), key=(lambda k: dist[k]))\n",
    "    form_to_mostfreq[form]=key_max"
   ]
  },
  {
   "cell_type": "code",
   "execution_count": null,
   "metadata": {
    "collapsed": true
   },
   "outputs": [],
   "source": [
    "for article in freq_baseline_articles:\n",
    "    for mention in article.entity_mentions:\n",
    "        mention.sys_link=form_to_mostfreq[mention.mention]\n",
    "        \n",
    "for article in random_baseline_articles:\n",
    "    for mention in article.entity_mentions:\n",
    "        if mention.mention in totals.keys() and totals[mention.mention].keys():\n",
    "            key_random=random.choice(list(totals[mention.mention].keys()))\n",
    "        else:\n",
    "            key_random='--NME--'\n",
    "        mention.sys_link=key_random\n",
    "        \n",
    "baseline_articles[freq_system]=freq_baseline_articles\n",
    "baseline_articles[random_system]=random_baseline_articles"
   ]
  },
  {
   "cell_type": "code",
   "execution_count": null,
   "metadata": {},
   "outputs": [],
   "source": [
    "for baseline, articles in baseline_articles.items():\n",
    "    sys_acc=analysis_utils.overall_performance_prf(articles, skip_nils=True, skip_nonnils=False)\n",
    "    print(sys_acc)\n",
    "    all_sys_accs[baseline]['overall']=sys_acc\n"
   ]
  },
  {
   "cell_type": "code",
   "execution_count": null,
   "metadata": {},
   "outputs": [],
   "source": [
    "for baseline, articles in baseline_articles.items():\n",
    "    amb_f_acc=analysis_utils.compute_prf_on_selection(articles, ambiguous_forms)\n",
    "    all_sys_accs[baseline]['ambiguous forms']=amb_f_acc\n",
    "\n",
    "    nn_f_acc=analysis_utils.compute_prf_on_selection(articles, nil_nonnil_forms)\n",
    "    all_sys_accs[baseline]['forms with nils & non-nils']=nn_f_acc"
   ]
  },
  {
   "cell_type": "code",
   "execution_count": null,
   "metadata": {},
   "outputs": [],
   "source": [
    "scores=analysis_utils.prepare_scores_to_plot(all_sys_accs)\n",
    "plot_utils.plot_scores(scores, title='Scores of systems')\n"
   ]
  },
  {
   "cell_type": "markdown",
   "metadata": {},
   "source": [
    "### 4) Prepare the data needed to compare frequency/popularity and performance"
   ]
  },
  {
   "cell_type": "markdown",
   "metadata": {},
   "source": [
    "**4.1. Compute P, R and F1 per form and instance**"
   ]
  },
  {
   "cell_type": "code",
   "execution_count": null,
   "metadata": {
    "collapsed": true
   },
   "outputs": [],
   "source": [
    "def evaluate_per_form_or_instance(articles, which='form', skip_nils=True, ambiguous_only=False, ambiguous_forms=None):\n",
    "    \"\"\"\n",
    "    Evaluate ranks for precision, recall, and F1-score.\n",
    "    \"\"\"\n",
    "    tps=defaultdict(int)\n",
    "    fns=defaultdict(int)\n",
    "    fps=defaultdict(int)\n",
    "   \n",
    "\n",
    "    all_cases=set()\n",
    "    for article in articles:\n",
    "        for mention in article.entity_mentions:\n",
    "                form=mention.mention\n",
    "                meaning=mention.gold_link\n",
    "                sys_meaning=mention.sys_link\n",
    "                if skip_nils and meaning=='--NME--':\n",
    "                    continue\n",
    "                if ambiguous_only and form not in ambiguous_forms:\n",
    "                    continue\n",
    "                if which=='form':\n",
    "                    factor_sys=form\n",
    "                    factor_gold=form\n",
    "                else:\n",
    "                    factor_gold=meaning\n",
    "                    factor_sys=sys_meaning\n",
    "                all_cases.add(factor_gold)\n",
    "                all_cases.add(factor_sys)\n",
    "                if sys_meaning==meaning:\n",
    "                    tps[factor_gold]+=1\n",
    "                else:\n",
    "                    if meaning and meaning!='--NME--':\n",
    "                        fns[factor_gold]+=1\n",
    "                    if sys_meaning and sys_meaning!='--NME--':\n",
    "                        fps[factor_sys]+=1\n",
    "\n",
    "    prec={}\n",
    "    recall={}\n",
    "    f1={}\n",
    "\n",
    "    for factor in all_cases:\n",
    "        if tps[factor]+fps[factor]>0:\n",
    "            prec[factor]=tps[factor]/(tps[factor]+fps[factor])\n",
    "        else:\n",
    "            prec[factor]=0.0\n",
    "        if tps[factor]+fns[factor]>0:\n",
    "            recall[factor]=tps[factor]/(tps[factor]+fns[factor])\n",
    "        else:\n",
    "            recall[factor]=0.0\n",
    "        if prec[factor]+recall[factor]>0:\n",
    "            f1[factor]=2*prec[factor]*recall[factor]/(prec[factor]+recall[factor])\n",
    "        else:\n",
    "            f1[factor]=0.0\n",
    "    return prec, recall, f1"
   ]
  },
  {
   "cell_type": "code",
   "execution_count": null,
   "metadata": {
    "collapsed": true
   },
   "outputs": [],
   "source": [
    "prec_by_form = {system: defaultdict(float) for system in systems}\n",
    "recall_by_form = {system: defaultdict(float) for system in systems}\n",
    "f1_by_form = {system: defaultdict(float) for system in systems}\n",
    "\n",
    "for system in systems:\n",
    "    prf = evaluate_per_form_or_instance(system_articles[system], 'form', ambiguous_only=False, \n",
    "                                        ambiguous_forms=ambiguous_forms)\n",
    "    prec_by_form[system]=prf[0]\n",
    "    recall_by_form[system]=prf[1]\n",
    "    f1_by_form[system]=prf[2]"
   ]
  },
  {
   "cell_type": "code",
   "execution_count": null,
   "metadata": {
    "collapsed": true
   },
   "outputs": [],
   "source": [
    "prec_by_instance = {system: defaultdict(float) for system in systems}\n",
    "recall_by_instance = {system: defaultdict(float) for system in systems}\n",
    "f1_by_instance = {system: defaultdict(float) for system in systems}\n",
    "\n",
    "for system in systems:\n",
    "    prf = evaluate_per_form_or_instance(system_articles[system], 'instance', ambiguous_only=False, \n",
    "                                        ambiguous_forms=ambiguous_forms)\n",
    "    prec_by_instance[system]=prf[0]\n",
    "    recall_by_instance[system]=prf[1]\n",
    "    f1_by_instance[system]=prf[2]"
   ]
  },
  {
   "cell_type": "markdown",
   "metadata": {},
   "source": [
    "**4.2. Obtain frequency distributions for forms and instances**"
   ]
  },
  {
   "cell_type": "code",
   "execution_count": null,
   "metadata": {
    "collapsed": true
   },
   "outputs": [],
   "source": [
    "instance_frequencies, form_frequencies=analysis_utils.get_mention_counts(system_articles[systems[0]])"
   ]
  },
  {
   "cell_type": "markdown",
   "metadata": {},
   "source": [
    "**4.3. Obtain PageRank values**"
   ]
  },
  {
   "cell_type": "code",
   "execution_count": null,
   "metadata": {
    "collapsed": true
   },
   "outputs": [],
   "source": [
    "skip_zeros=True\n",
    "pagerank_frequency, pr_uniq, uri_pr = analysis_utils.get_pageranks(system_articles['spotlight'],\n",
    "                                                                     skip_zeros=skip_zeros,\n",
    "                                                                     ambiguous_only=True,\n",
    "                                                                      ambiguous_forms=ambiguous_forms)"
   ]
  },
  {
   "cell_type": "markdown",
   "metadata": {},
   "source": [
    "**4.4. Prepare entropy values**"
   ]
  },
  {
   "cell_type": "code",
   "execution_count": null,
   "metadata": {
    "collapsed": true
   },
   "outputs": [],
   "source": [
    "form_entropies={}\n",
    "for form in ambiguous_forms:\n",
    "    counts=analysis_utils.get_form_counts(system_articles['spotlight'], form)\n",
    "    counts=list(counts)\n",
    "    form_entropies[form]=entropy(counts ,base=len(counts))"
   ]
  },
  {
   "cell_type": "markdown",
   "metadata": {},
   "source": [
    "### 5) Compute Correlations between frequency/popularity and performance\n",
    "\n",
    "<span style=\"background-color:lightgreen\">Section 6.2. of the paper</span>"
   ]
  },
  {
   "cell_type": "markdown",
   "metadata": {},
   "source": [
    "** 5.1. Compute correlation between form frequency and performance**"
   ]
  },
  {
   "cell_type": "code",
   "execution_count": null,
   "metadata": {
    "collapsed": true
   },
   "outputs": [],
   "source": [
    "if debug: # OLD VERSION, without pre-aggregation\n",
    "    for metric in [prec_by_form, recall_by_form, f1_by_form]:\n",
    "        for system in systems:\n",
    "            print(system.upper())\n",
    "\n",
    "            dist1, dist2 = analysis_utils.prepare_lists(metric[system], form_frequencies)\n",
    "            correlation, significance = spearmanr(dist1, dist2)\n",
    "            print('The Spearman correlation between X and Y is:', correlation, '. Significance: ', significance)"
   ]
  },
  {
   "cell_type": "code",
   "execution_count": null,
   "metadata": {},
   "outputs": [],
   "source": [
    "agg_per_frequency=defaultdict(set)\n",
    "for form, frequency in form_frequencies.items():\n",
    "    agg_per_frequency[frequency].add(form)\n",
    "\n",
    "for system in systems:\n",
    "    dist1=[]\n",
    "    dist2=[]\n",
    "    for frequency, forms in sorted(agg_per_frequency.items()):\n",
    "        f1_values=[]\n",
    "        for form in forms:\n",
    "            try:\n",
    "                f1_values.append(f1_by_form[system][form])\n",
    "            except KeyError:\n",
    "                continue\n",
    "        if f1_values:\n",
    "            dist1.append(frequency)\n",
    "            dist2.append(np.mean(f1_values))\n",
    "    correlation, significance = spearmanr(dist1, dist2)\n",
    "    print(system.upper())\n",
    "    print('The Spearman correlation between X and Y is:', correlation, '. Significance: ', significance)"
   ]
  },
  {
   "cell_type": "markdown",
   "metadata": {},
   "source": [
    "** 5.2. Compute correlation between instance frequency and performance**"
   ]
  },
  {
   "cell_type": "code",
   "execution_count": null,
   "metadata": {
    "collapsed": true
   },
   "outputs": [],
   "source": [
    "if debug: # OLD VERSION, without pre-aggregation\n",
    "    for metric in [prec_by_instance, recall_by_instance, f1_by_instance]:\n",
    "        for system in systems:\n",
    "            print(system.upper())\n",
    "\n",
    "            dist1, dist2 = analysis_utils.prepare_lists(metric[system], instance_frequencies)\n",
    "            correlation, significance = spearmanr(dist1, dist2)\n",
    "            print('The Spearman correlation between X and Y is:', correlation, '. Significance: ', significance)"
   ]
  },
  {
   "cell_type": "code",
   "execution_count": null,
   "metadata": {},
   "outputs": [],
   "source": [
    "agg_inst_per_frequency=defaultdict(set)\n",
    "for instance, frequency in instance_frequencies.items():\n",
    "    agg_inst_per_frequency[frequency].add(instance)\n",
    "\n",
    "for system in systems:\n",
    "    dist1=[]\n",
    "    dist2=[]\n",
    "    for frequency, instances in sorted(agg_inst_per_frequency.items()):\n",
    "        f1_values=[]\n",
    "        for instance in instances:\n",
    "            try:\n",
    "                f1_values.append(f1_by_instance[system][instance])\n",
    "            except KeyError:\n",
    "                continue\n",
    "        if f1_values:\n",
    "            dist1.append(frequency)\n",
    "            dist2.append(np.mean(f1_values))\n",
    "    correlation, significance = spearmanr(dist1, dist2)\n",
    "    print(system.upper())\n",
    "    print('The Spearman correlation between X and Y is:', correlation, '. Significance: ', significance)"
   ]
  },
  {
   "cell_type": "markdown",
   "metadata": {},
   "source": [
    "** 5.3. Compute correlation between instance PageRank and performance**"
   ]
  },
  {
   "cell_type": "code",
   "execution_count": null,
   "metadata": {
    "collapsed": true
   },
   "outputs": [],
   "source": [
    "if debug: # Outdated, no aggregation\n",
    "    for metric in [prec_by_instance, recall_by_instance, f1_by_instance]:\n",
    "        for system in systems:\n",
    "            print(system.upper())\n",
    "\n",
    "            dist1, dist2 = analysis_utils.prepare_lists(metric[system], uri_pr)\n",
    "            correlation, significance = spearmanr(dist1, dist2)\n",
    "            print('The Spearman correlation between X and Y is:', correlation, '. Significance: ', significance)"
   ]
  },
  {
   "cell_type": "code",
   "execution_count": null,
   "metadata": {},
   "outputs": [],
   "source": [
    "agg_inst_per_pr=defaultdict(set)\n",
    "for instance, i_pr in uri_pr.items():\n",
    "    agg_inst_per_pr[i_pr].add(instance)\n",
    "\n",
    "for system in systems:\n",
    "    dist1=[]\n",
    "    dist2=[]\n",
    "    for i_pr, instances in sorted(agg_inst_per_pr.items()):\n",
    "        f1_values=[]\n",
    "        for instance in instances:\n",
    "            try:\n",
    "                f1_values.append(f1_by_instance[system][instance])\n",
    "            except KeyError:\n",
    "                continue\n",
    "        if f1_values:\n",
    "            dist1.append(i_pr)\n",
    "            dist2.append(np.mean(f1_values))\n",
    "    correlation, significance = spearmanr(dist1, dist2)\n",
    "    print(system.upper())\n",
    "    print('The Spearman correlation between X and Y is:', correlation, '. Significance: ', significance)"
   ]
  },
  {
   "cell_type": "markdown",
   "metadata": {},
   "source": [
    "**5.4. Debug: why are the correlations low now** "
   ]
  },
  {
   "cell_type": "code",
   "execution_count": null,
   "metadata": {},
   "outputs": [],
   "source": [
    "plt.plot(np.log(dist2), dist1, '*')"
   ]
  },
  {
   "cell_type": "code",
   "execution_count": null,
   "metadata": {},
   "outputs": [],
   "source": [
    "len(dist1)"
   ]
  },
  {
   "cell_type": "code",
   "execution_count": null,
   "metadata": {},
   "outputs": [],
   "source": [
    "for i, f1_val in f1_by_instance['wat'].items():\n",
    "    if i in instance_frequencies.keys():\n",
    "        print(i, instance_frequencies[i], f1_val)\n",
    "    else:\n",
    "        print(i, ':-(')"
   ]
  },
  {
   "cell_type": "markdown",
   "metadata": {},
   "source": [
    "### 6) Entropy\n",
    "\n",
    "<span style=\"background-color:lightgreen\">Section 6.3. of the paper</span>\n"
   ]
  },
  {
   "cell_type": "markdown",
   "metadata": {},
   "source": [
    "**6.1. Plot F1-scores per entropy class**"
   ]
  },
  {
   "cell_type": "code",
   "execution_count": null,
   "metadata": {
    "collapsed": true
   },
   "outputs": [],
   "source": [
    "forms_per_rentropy=defaultdict(set)\n",
    "for form, entr in form_entropies.items():\n",
    "    rounded_entropy=round(entr,1)\n",
    "    forms_per_rentropy[rounded_entropy].add(form)"
   ]
  },
  {
   "cell_type": "code",
   "execution_count": null,
   "metadata": {},
   "outputs": [],
   "source": [
    "\n",
    "fig = plt.figure()\n",
    "cnt=0\n",
    "c=['o', '^', '+', '3', 'x']\n",
    "clr=['0.0', '0.25', '0.5', '0.7', '0.8']\n",
    "\n",
    "\n",
    "for system in systems:\n",
    "    w=open('debug/entropy_%s.tsv' % system, 'w')\n",
    "    xs=[]\n",
    "    ys=[]\n",
    "    print(system.upper())\n",
    "    for rentropy, forms_set in sorted(forms_per_rentropy.items()):\n",
    "        f1=analysis_utils.compute_prf_on_selection(system_articles[system], forms_set)\n",
    "        fc=0\n",
    "        for frm in sorted(list(forms_set)):\n",
    "            interps=interpretations[frm]\n",
    "            if fc==0:\n",
    "                w.write('%f\\t%f\\t%s\\t%s\\n' % (rentropy, f1, frm, ','.join(interps)))\n",
    "            else:\n",
    "                w.write(' \\t \\t%s\\t%s\\n' % (frm, ','.join(interps)))\n",
    "            fc+=1\n",
    "        w.write('\\n')\n",
    "        xs.append(rentropy)\n",
    "        ys.append(f1*100.0)\n",
    "    plt.plot(xs, ys, \"%s-\" % c[cnt], color=clr[cnt], label=system.upper())\n",
    "    cnt+=1\n",
    "    w.close()\n",
    "    \n",
    "for baseline, articles in baseline_articles.items():    \n",
    "    xs=[]\n",
    "    ys=[]\n",
    "    print(baseline.upper())\n",
    "    for rentropy, forms_set in sorted(forms_per_rentropy.items()):\n",
    "        f1=analysis_utils.compute_prf_on_selection(articles, forms_set)\n",
    "        xs.append(rentropy)\n",
    "        ys.append(f1*100.0)\n",
    "    plt.plot(xs, ys, \"%s-\" % c[cnt], color=clr[cnt], label=baseline.upper())\n",
    "    cnt+=1\n",
    "    \n",
    "    \n",
    "plt.legend()\n",
    "plt.xlabel('Entropy')\n",
    "plt.ylabel('F1-score')\n",
    "plt.xticks(xs)\n",
    " \n",
    "plt.show()\n",
    "\n",
    "save=True\n",
    "if save:\n",
    "    fig.savefig('img/entropy_f1.png')\n"
   ]
  },
  {
   "cell_type": "markdown",
   "metadata": {},
   "source": [
    "**6.2. Compute correlation between form entropy and P/R/F1**"
   ]
  },
  {
   "cell_type": "code",
   "execution_count": null,
   "metadata": {},
   "outputs": [],
   "source": [
    "for metric in [prec_by_form, recall_by_form, f1_by_form]:\n",
    "    for system in systems:\n",
    "        print(system.upper())\n",
    "    \n",
    "        dist1, dist2 = analysis_utils.prepare_lists(metric[system], form_entropies)\n",
    "        correlation, significance = spearmanr(dist1, dist2)\n",
    "        print('The Spearman correlation between X and Y is:', correlation, '. Significance: ', significance)"
   ]
  },
  {
   "cell_type": "markdown",
   "metadata": {},
   "source": [
    "**The average correlation across systems between F1-score and entropy is -0.20518622158**"
   ]
  },
  {
   "cell_type": "markdown",
   "metadata": {},
   "source": [
    "### 7) Correlation between instance ranks (of a form) and performance\n",
    "\n",
    "<span style=\"background-color:lightgreen\">Section 6.4. of the paper</span>\n"
   ]
  },
  {
   "cell_type": "markdown",
   "metadata": {},
   "source": [
    "**7.1. Collect interpretations for a form**\n"
   ]
  },
  {
   "cell_type": "code",
   "execution_count": null,
   "metadata": {
    "collapsed": true
   },
   "outputs": [],
   "source": [
    "interpretations=defaultdict(set)\n",
    "for article in system_articles['spotlight']:\n",
    "    for mention in article.entity_mentions:\n",
    "        form=mention.mention\n",
    "        meaning=mention.gold_link\n",
    "        if not skip_nils or meaning!='--NME--':\n",
    "            interpretations[form].add(meaning)"
   ]
  },
  {
   "cell_type": "code",
   "execution_count": null,
   "metadata": {},
   "outputs": [],
   "source": [
    "interpretations['Marseille']"
   ]
  },
  {
   "cell_type": "markdown",
   "metadata": {},
   "source": [
    "**7.2. Aggregate per rank**"
   ]
  },
  {
   "cell_type": "code",
   "execution_count": null,
   "metadata": {
    "collapsed": true
   },
   "outputs": [],
   "source": [
    "def rank_analysis(systems, system_articles, ambiguous_forms, uri_pr=None, ambiguous_only=True, factor='freq'):\n",
    "\n",
    "    print(factor)\n",
    "    fig, axs = plt.subplots(1,3, sharey=True, figsize=(14,3))\n",
    "    p={}\n",
    "    r={}\n",
    "    f1={}\n",
    "\n",
    "    for system in systems:\n",
    "        w=open('debug/%srank_%s.tsv' % (factor, system), 'w')\n",
    "        rank_tuples=analysis_utils.prepare_ranks(system_articles[system], \n",
    "                                                  ambiguous_forms,\n",
    "                                                  uri_pr=uri_pr,\n",
    "                                                  ambiguous_only=ambiguous_only, \n",
    "                                                  factor=factor)\n",
    "        for rank in sorted(rank_tuples.keys()):\n",
    "            w.write('%d\\n' % rank)\n",
    "            for t in rank_tuples[rank]:\n",
    "                w.write(' \\t%s\\t%s\\n' % (t[0], t[1]))\n",
    "            w.write('\\n')\n",
    "        w.close()\n",
    "        #print(rank_tuples)\n",
    "        p[system], r[system], f1[system] = analysis_utils.evaluate_ranks(system_articles[system], \n",
    "                                                          rank_tuples)\n",
    "        \n",
    "        print()\n",
    "\n",
    "    plot_utils.plot_prf(p, systems, axs[0], title=\"PRECISION\")\n",
    "    plot_utils.plot_prf(r, systems, axs[1], title=\"RECALL\")\n",
    "    plot_utils.plot_prf(f1, systems, axs[2], title=\"F1-SCORE\")\n",
    "\n",
    "    plt.show()\n",
    "\n",
    "    fig.savefig('img/accuracy_per_%s_rank.png' % factor, bbox_inches='tight')"
   ]
  },
  {
   "cell_type": "code",
   "execution_count": null,
   "metadata": {},
   "outputs": [],
   "source": [
    "rank_analysis(systems, system_articles, ambiguous_forms, ambiguous_only=True, factor='freq')"
   ]
  },
  {
   "cell_type": "markdown",
   "metadata": {},
   "source": [
    "#### 7.3 PR ranks\n"
   ]
  },
  {
   "cell_type": "code",
   "execution_count": null,
   "metadata": {},
   "outputs": [],
   "source": [
    "rank_analysis(systems, system_articles, ambiguous_forms, uri_pr=uri_pr, ambiguous_only=True, factor='pr')"
   ]
  },
  {
   "cell_type": "markdown",
   "metadata": {},
   "source": [
    "### 8) Ambiguity and frequency together against accuracy"
   ]
  },
  {
   "cell_type": "code",
   "execution_count": null,
   "metadata": {
    "collapsed": true
   },
   "outputs": [],
   "source": [
    "def heatmap_me(AMB, FREQ, ACC, system, a, ylbl='', cbar=False):\n",
    "    data = pd.DataFrame({'AMB': AMB, 'FREQ': FREQ, 'ACC': ACC})\n",
    "    data_pivoted = data.pivot(\"FREQ\", \"AMB\", \"ACC\")\n",
    "#    fig=plt.figure(figsize = (12,7))\n",
    "    ax = sns.heatmap(data_pivoted, annot=True, linewidths=.5, ax=a,cbar=cbar,fmt='g')\n",
    "    ax.set_ylabel(ylbl)\n",
    "    ax.set_title(system.upper())\n",
    "    for _, spine in ax.spines.items():\n",
    "        spine.set_edgecolor('darkblue')\n",
    "        spine.set_visible(True)\n",
    "#    plt.show()\n",
    "#    fig.savefig('img/%s_amb_frequency_acc.png' % system)"
   ]
  },
  {
   "cell_type": "code",
   "execution_count": null,
   "metadata": {
    "collapsed": true
   },
   "outputs": [],
   "source": [
    "def split_forms_per_amb_freq_pair(ambiguity, forms_by_log_count):\n",
    "    af_pairs=defaultdict(set)\n",
    "    for log_freq, forms in forms_by_log_count.items():\n",
    "        for form in forms:\n",
    "            amb=ambiguity[form]\n",
    "            rounded_freq=round(log_freq)\n",
    "            af_pairs[(amb, rounded_freq)].add(form)\n",
    "    return af_pairs"
   ]
  },
  {
   "cell_type": "code",
   "execution_count": null,
   "metadata": {
    "collapsed": true
   },
   "outputs": [],
   "source": [
    "def evaluate_af_pairs(af_pairs, articles, skip_nils=True):\n",
    "    \n",
    "    tp=defaultdict(int)\n",
    "    fn=defaultdict(int)\n",
    "    fp=defaultdict(int)\n",
    "    \n",
    "    counts=defaultdict(set)\n",
    "    for article in articles:\n",
    "        for mention in article.entity_mentions:\n",
    "            gold = mention.gold_link\n",
    "            syslink = mention.sys_link\n",
    "            form = mention.mention\n",
    "            if skip_nils and gold=='--NME--':\n",
    "                continue\n",
    "            this_pair=None\n",
    "            for pair, forms in af_pairs.items():\n",
    "                if form in forms:\n",
    "                    this_pair=pair\n",
    "            if not this_pair:\n",
    "                continue\n",
    "            else:\n",
    "                counts[this_pair].add(form)\n",
    "            if gold==syslink:\n",
    "                tp[this_pair]+=1\n",
    "            else:\n",
    "                if syslink!='--NME--':\n",
    "                    fp[this_pair]+=1\n",
    "                fn[this_pair]+=1\n",
    "    \n",
    "    agg_counts={}\n",
    "    for pair, forms in counts.items():\n",
    "        agg_counts[pair]=len(forms)\n",
    "    \n",
    "    prec=defaultdict(float)\n",
    "    recall=defaultdict(float)\n",
    "    f1=defaultdict(int)\n",
    "    \n",
    "    for pair in af_pairs.keys():\n",
    "        prec[pair]=tp[pair]/(tp[pair]+fp[pair])\n",
    "        recall[pair]=tp[pair]/(tp[pair]+fn[pair])\n",
    "        if prec[pair]+recall[pair]>0:\n",
    "            f1[pair]=int(100.0*2*prec[pair]*recall[pair]/(prec[pair]+recall[pair]))\n",
    "        else:\n",
    "            f1[pair]=0\n",
    "    \n",
    "    return f1, agg_counts"
   ]
  },
  {
   "cell_type": "code",
   "execution_count": null,
   "metadata": {
    "collapsed": true
   },
   "outputs": [],
   "source": [
    "forms_by_count = analysis_utils.compute_counts_by_form(system_articles['wat'])\n",
    "forms_by_log_count=analysis_utils.counts_to_log_counts(forms_by_count)\n",
    "freq_intervals = analysis_utils.get_freq_intervals(forms_by_count)\n",
    "\n",
    "total_per_form = analysis_utils.get_freq_totals(system_articles[systems[0]], ambiguous_forms, ambiguous_only=False)\n",
    "af_pairs=split_forms_per_amb_freq_pair(ambiguity, forms_by_log_count)"
   ]
  },
  {
   "cell_type": "code",
   "execution_count": null,
   "metadata": {
    "collapsed": true
   },
   "outputs": [],
   "source": [
    "def plot_heatmap(data, cnt, freq_intervals, axs=None, system=''):\n",
    "    AMB=[]\n",
    "    FREQ=[]\n",
    "    ACC=[]\n",
    "    \n",
    "    for this_pair, val in data.items():\n",
    "\n",
    "        ACC.append(val)\n",
    "        AMB.append(this_pair[0])\n",
    "        mn=freq_intervals[this_pair[1]][0]\n",
    "        mx=freq_intervals[this_pair[1]][1]\n",
    "        FREQ.append(freq_intervals[this_pair[1]])\n",
    "    if cnt>0:\n",
    "        ylbl=''\n",
    "    else:\n",
    "        ylbl='FREQ'\n",
    "    heatmap_me(AMB, FREQ, ACC, system, axs[cnt], cbar=(cnt==2), ylbl=ylbl)\n"
   ]
  },
  {
   "cell_type": "code",
   "execution_count": null,
   "metadata": {},
   "outputs": [],
   "source": [
    "fig, axs = plt.subplots(ncols=4, sharey=True,figsize=(16,4))\n",
    "cnt=0\n",
    "\n",
    "for system in systems:\n",
    "    \n",
    "    f1s, counts = evaluate_af_pairs(af_pairs, system_articles[system])\n",
    "    \n",
    "    plot_heatmap(f1s, cnt, freq_intervals, axs, system)\n",
    "\n",
    "    cnt+=1\n",
    "    \n",
    "plot_heatmap(counts, cnt, freq_intervals, axs, 'unique forms per bucket')\n",
    "    \n",
    "plt.show()\n",
    "fig.savefig('img/amb_frequency_acc.png')"
   ]
  },
  {
   "cell_type": "code",
   "execution_count": null,
   "metadata": {
    "collapsed": true
   },
   "outputs": [],
   "source": []
  }
 ],
 "metadata": {
  "anaconda-cloud": {},
  "kernelspec": {
   "display_name": "Python 3",
   "language": "python",
   "name": "python3"
  },
  "language_info": {
   "codemirror_mode": {
    "name": "ipython",
    "version": 3
   },
   "file_extension": ".py",
   "mimetype": "text/x-python",
   "name": "python",
   "nbconvert_exporter": "python",
   "pygments_lexer": "ipython3",
   "version": "3.6.1"
  }
 },
 "nbformat": 4,
 "nbformat_minor": 1
}
