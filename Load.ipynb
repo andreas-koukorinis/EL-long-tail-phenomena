{
 "cells": [
  {
   "cell_type": "code",
   "execution_count": 1,
   "metadata": {},
   "outputs": [],
   "source": [
    "import dataparser\n",
    "import time\n",
    "import pickle\n",
    "import load_utils"
   ]
  },
  {
   "cell_type": "markdown",
   "metadata": {},
   "source": [
    "## 1) Load dataset(s) and show some basic stats"
   ]
  },
  {
   "cell_type": "code",
   "execution_count": 2,
   "metadata": {
    "collapsed": true
   },
   "outputs": [],
   "source": [
    "rss_title='rss500'\n",
    "rss_file='data/N3/RSS-500.ttl'\n",
    "reuters_title='reuters128'\n",
    "reuters_file='data/N3/Reuters-128.ttl'\n",
    "\n",
    "n3_title='n3'\n",
    "\n",
    "limit=100000000 # for testing purposes"
   ]
  },
  {
   "cell_type": "code",
   "execution_count": 3,
   "metadata": {},
   "outputs": [],
   "source": [
    "rss_articles=dataparser.load_article_from_nif_file(rss_file, collection=rss_title, limit=limit)\n",
    "\n",
    "reuters_articles=dataparser.load_article_from_nif_file(reuters_file, collection=reuters_title, limit=limit)\n",
    "\n",
    "n3_articles=reuters_articles | rss_articles"
   ]
  },
  {
   "cell_type": "code",
   "execution_count": 4,
   "metadata": {},
   "outputs": [
    {
     "name": "stdout",
     "output_type": "stream",
     "text": [
      "N3: 628 articles loaded!\n"
     ]
    }
   ],
   "source": [
    "print('N3: %d articles loaded!' % len(n3_articles))"
   ]
  },
  {
   "cell_type": "code",
   "execution_count": null,
   "metadata": {},
   "outputs": [],
   "source": [
    "\n",
    "wes_title='wes2015'\n",
    "wes_file=\"data/wes2015-dataset-nif-1.2.rdf\"\n",
    "\n",
    "wes_articles=dataparser.load_article_from_nif_file(wes_file, limit=limit, collection=wes_title)\n",
    "print('WES2015: %d articles loaded!' % len(wes_articles))\n",
    "\n",
    "aida_title='aida'\n",
    "aida_file='data/AIDA-YAGO2-dataset_topicsLowlevel.tsv'\n",
    "\n",
    "aida_articles=dataparser.load_article_from_conll_file(aida_file)\n",
    "\n",
    "print('AIDA: %d articles loaded!' % len(aida_articles))"
   ]
  },
  {
   "cell_type": "code",
   "execution_count": null,
   "metadata": {},
   "outputs": [],
   "source": [
    "num_mentions_n3 = sum(len(article.entity_mentions) for article in n3_articles)\n",
    "print(\"N3: %d mentions in total!\" % num_mentions_n3)\n",
    "\n",
    "num_mentions_wes = sum(len(article.entity_mentions) for article in wes_articles)\n",
    "print(\"WES2015: %d mentions in total!\" % num_mentions_wes)\n",
    "\n",
    "num_mentions_aida = sum(len(article.entity_mentions) for article in aida_articles)\n",
    "print(\"AIDA: %d mentions in total!\" % num_mentions_aida)\n",
    "\n"
   ]
  },
  {
   "cell_type": "markdown",
   "metadata": {},
   "source": [
    "**1.1. Inspect encoding**"
   ]
  },
  {
   "cell_type": "code",
   "execution_count": null,
   "metadata": {},
   "outputs": [],
   "source": [
    "for a in rss_articles:\n",
    "    for entity in a.entity_mentions:\n",
    "        gold=entity.gold_link\n",
    "        print(gold)"
   ]
  },
  {
   "cell_type": "code",
   "execution_count": null,
   "metadata": {
    "collapsed": true
   },
   "outputs": [],
   "source": [
    "def store_dataset(title, articles):    \n",
    "    with open('%s.bin' % title, 'wb') as outfile:\n",
    "        pickle.dump(articles, outfile)\n",
    "        \n",
    "def store_system_data(dataset, system, articles):    \n",
    "    with open('%s_%s.bin' % (dataset, system), 'wb') as outfile:\n",
    "        pickle.dump(articles, outfile)"
   ]
  },
  {
   "cell_type": "code",
   "execution_count": null,
   "metadata": {},
   "outputs": [],
   "source": [
    "store_dataset(aida_title, aida_articles)\n",
    "store_dataset(wes_title, wes_articles)"
   ]
  },
  {
   "cell_type": "code",
   "execution_count": null,
   "metadata": {
    "collapsed": true
   },
   "outputs": [],
   "source": [
    "#store_dataset(rss_title, rss_articles)\n",
    "#store_dataset(reuters_title, reuters_articles)\n",
    "store_dataset(n3_title, n3_articles)"
   ]
  },
  {
   "cell_type": "markdown",
   "metadata": {},
   "source": [
    "### 2) AGDISTIS annotation"
   ]
  },
  {
   "cell_type": "code",
   "execution_count": null,
   "metadata": {
    "collapsed": true
   },
   "outputs": [],
   "source": [
    "import systemparser"
   ]
  },
  {
   "cell_type": "code",
   "execution_count": null,
   "metadata": {
    "scrolled": false
   },
   "outputs": [],
   "source": [
    "#from agdistispy.agdistis import Agdistis\n",
    "#ag = Agdistis()\n",
    "\n",
    "#for articles in [aida_articles]:\n",
    "for articles in [n3_articles]:\n",
    "    c=0\n",
    "    for article in articles:\n",
    "        original_content = article.content\n",
    "        new_content=original_content\n",
    "        for entity in reversed(article.entity_mentions):\n",
    "            entity_span=new_content[entity.begin_index: entity.end_index]\n",
    "            new_content=new_content[:entity.begin_index] + '<entity>' + entity_span + '</entity>' + new_content[entity.end_index:]\n",
    "\n",
    "#        results=ag.disambiguate(new_content)\n",
    "        results = systemparser.disambiguateAgdistis(new_content)\n",
    "        dis_entities={}\n",
    "        for dis_entity in results:\n",
    "            dis_entities[str(dis_entity['start'])] = utils.getLinkRedirect(utils.normalizeURL(dis_entity['disambiguatedURL']))\n",
    "        for entity in article.entity_mentions:\n",
    "            start = entity.begin_index\n",
    "            dis_url = dis_entities[str(start)]\n",
    "            entity.sys_link = dis_url\n",
    "        c+=1\n",
    "        print(\"Article %d out of %d\" % (c, len(articles)))\n",
    "        if c==10000:\n",
    "            break\n",
    "            #x='<entity>Barack Obama</entity> arrives in <entity>Washington, D.C.</entity>, and bye <entity>Msdaser</entity>.'\n",
    "    #len(x)"
   ]
  },
  {
   "cell_type": "markdown",
   "metadata": {},
   "source": [
    "### Debugging: Check if offsets between SYS and GOLD match for all entities"
   ]
  },
  {
   "cell_type": "code",
   "execution_count": null,
   "metadata": {
    "collapsed": true,
    "scrolled": true
   },
   "outputs": [],
   "source": [
    "for articles in n3_articles:\n",
    "    for entity in article.entity_mentions:\n",
    "        if not entity.sys_link:\n",
    "            print(entity.begin_index, entity.sys_link, entity.gold_link)"
   ]
  },
  {
   "cell_type": "markdown",
   "metadata": {},
   "source": [
    "### Store data on disk"
   ]
  },
  {
   "cell_type": "code",
   "execution_count": null,
   "metadata": {
    "collapsed": true
   },
   "outputs": [],
   "source": [
    "#store_system_data(aida_title, 'agdistis', aida_articles)\n",
    "#store_system_data(wes_title, 'agdistis', wes_articles)\n",
    "store_system_data(n3_title, 'agdistis', n3_articles)"
   ]
  },
  {
   "cell_type": "markdown",
   "metadata": {},
   "source": [
    "### 3) Run DBpedia Spotlight"
   ]
  },
  {
   "cell_type": "code",
   "execution_count": null,
   "metadata": {},
   "outputs": [],
   "source": [
    "import requests\n",
    "import urllib.parse\n",
    "import xml.etree.cElementTree as ET\n",
    "from lxml import etree\n",
    "import time\n",
    "\n",
    "spotlight_url=\"http://model.dbpedia-spotlight.org/en/disambiguate\"\n",
    "headers = {'Accept': 'application/json'}\n",
    "\n",
    "for articles in [n3_articles]:\n",
    "#for articles in [aida_articles,wes_articles]:\n",
    "\n",
    "    c=0\n",
    "    for article in articles:\n",
    "        annotation = etree.Element(\"annotation\", text=article.content)\n",
    "        for mention in article.entity_mentions:\n",
    "            sf = etree.SubElement(annotation, \"surfaceForm\")\n",
    "            sf.set(\"name\", mention.mention)\n",
    "            sf.set(\"offset\", str(mention.begin_index))\n",
    "        my_xml=etree.tostring(annotation, xml_declaration=True, encoding='UTF-8')\n",
    "        results=requests.post(spotlight_url, urllib.parse.urlencode({'text':my_xml, 'confidence': 0.5}), headers=headers)\n",
    "        j=results.json()\n",
    "        dis_entities={}\n",
    "        if 'Resources' in j: resources=j['Resources']\n",
    "        else: resources=[]\n",
    "        for dis_entity in resources:\n",
    "            dis_entities[str(dis_entity['@offset'])] = utils.getLinkRedirect(utils.normalizeURL(dis_entity['@URI']))\n",
    "        for entity in article.entity_mentions:\n",
    "            start = entity.begin_index\n",
    "            if str(start) in dis_entities:\n",
    "                dis_url = dis_entities[str(start)]\n",
    "            else:\n",
    "                dis_url = '--NME--'\n",
    "            entity.sys_link = dis_url\n",
    "        c+=1\n",
    "        print(\"Article %d out of %d\" % (c, len(articles)))\n",
    "        time.sleep(0.1)"
   ]
  },
  {
   "cell_type": "code",
   "execution_count": null,
   "metadata": {
    "collapsed": true
   },
   "outputs": [],
   "source": [
    "#store_system_data(aida_title, 'spotlight', aida_articles)\n",
    "#store_system_data(wes_title, 'spotlight', wes_articles)\n",
    "#store_system_data(rss_title, 'spotlight', rss_articles)\n",
    "store_system_data(n3_title, 'spotlight', n3_articles)"
   ]
  },
  {
   "cell_type": "markdown",
   "metadata": {
    "collapsed": true
   },
   "source": [
    "### 4) Run WAT"
   ]
  },
  {
   "cell_type": "code",
   "execution_count": null,
   "metadata": {},
   "outputs": [],
   "source": [
    "import json\n",
    "\n",
    "wat_url='https://wat.d4science.org/wat/tag/json'\n",
    "#wat_url='http://wikisense.mkapp.it/tag/disambiguate'\n",
    "\n",
    "for articles in [n3_articles]:\n",
    "    c=0\n",
    "    for article in articles:\n",
    "        txt = article.content\n",
    "        spans=[]\n",
    "        for mention in article.entity_mentions:\n",
    "            span={'start': mention.begin_index,\n",
    "                 'end': mention.end_index}\n",
    "            spans.append(span)\n",
    "\n",
    "        document_json = {\n",
    "          \"text\": txt,\n",
    "          \"suggested_spans\": spans\n",
    "        }\n",
    "\n",
    "        r = requests.get(wat_url, params={\"document\": json.dumps(document_json)})\n",
    "        rjson=r.json()\n",
    "        dis_entities={}\n",
    "        for dis_entity in rjson['annotations']:\n",
    "            dis_entities[str(dis_entity['start'])] = utils.getLinkRedirect(utils.normalizeURL(dis_entity['title']))\n",
    "        for entity in article.entity_mentions:\n",
    "            start = entity.begin_index\n",
    "            if str(start) in dis_entities:\n",
    "                dis_url = dis_entities[str(start)]\n",
    "            else:\n",
    "                dis_url = '--NME--'\n",
    "            entity.sys_link = dis_url\n",
    "        c+=1\n",
    "        print(\"Article %d out of %d\" % (c, len(articles)))"
   ]
  },
  {
   "cell_type": "code",
   "execution_count": null,
   "metadata": {
    "collapsed": true
   },
   "outputs": [],
   "source": [
    "store_system_data(n3_title, 'wat', n3_articles)\n",
    "#store_system_data(aida_title, 'wat', aida_articles)\n",
    "#store_system_data(wes_title, 'wat', wes_articles)"
   ]
  },
  {
   "cell_type": "code",
   "execution_count": null,
   "metadata": {
    "collapsed": true
   },
   "outputs": [],
   "source": []
  }
 ],
 "metadata": {
  "anaconda-cloud": {},
  "kernelspec": {
   "display_name": "Python 3",
   "language": "python",
   "name": "python3"
  },
  "language_info": {
   "codemirror_mode": {
    "name": "ipython",
    "version": 3
   },
   "file_extension": ".py",
   "mimetype": "text/x-python",
   "name": "python",
   "nbconvert_exporter": "python",
   "pygments_lexer": "ipython3",
   "version": "3.6.1"
  }
 },
 "nbformat": 4,
 "nbformat_minor": 1
}
